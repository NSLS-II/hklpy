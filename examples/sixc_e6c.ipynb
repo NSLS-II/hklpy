{
 "metadata": {
  "language_info": {
   "codemirror_mode": {
    "name": "ipython",
    "version": 3
   },
   "file_extension": ".py",
   "mimetype": "text/x-python",
   "name": "python",
   "nbconvert_exporter": "python",
   "pygments_lexer": "ipython3",
   "version": "3.8.2-final"
  },
  "orig_nbformat": 2,
  "kernelspec": {
   "name": "python38264bitcondaf8e76b08f7284c68a6b3de15f965a87a",
   "display_name": "Python 3.8.2 64-bit (conda)"
  }
 },
 "nbformat": 4,
 "nbformat_minor": 2,
 "cells": [
  {
   "source": [
    "# JL124 E6C 6-circle example\n",
    "\n",
    "Compare with data acquired using SPEC\n",
    "\n",
    "In _hkl_ *E6C* geometry (https://people.debian.org/~picca/hkl/hkl.html#orge5e0490):\n",
    "\n",
    "<img src=\"4S+2D.png\" alt=\"E6C geometry\" width=\"30%\"/>\n",
    "\n",
    "* xrays incident on the $\\vec{x}$ direction (1, 0, 0)\n",
    "\n",
    "axis  | moves    | rotation about axis\n",
    "---   | ---      | ---\n",
    "mu    | sample   | $\\vec{z}$ `[0 0 1]`\n",
    "omega | sample   | $-\\vec{y}$ `[0 -1 0]`\n",
    "chi   | sample   | $\\vec{x}$ `[1 0 0]`\n",
    "phi   | sample   | $-\\vec{y}$ `[0 -1 0]`\n",
    "gamma | detector | $\\vec{z}$ `[0 0 1]`\n",
    "delta | detector | $-\\vec{y}$ `[0 -1 0]`"
   ],
   "cell_type": "markdown",
   "metadata": {}
  },
  {
   "source": [
    "Huber 6-circle diffractometer at the Advanced Photon Source\n",
    "\n",
    "<img \n",
    "  src=\"6-circle-diffractometer.jpg\" \n",
    "  alt=\"APS 6-circle diffractometer\" \n",
    "  width=\"40%\"/>\n"
   ],
   "cell_type": "markdown",
   "metadata": {}
  },
  {
   "source": [
    "In SPEC *sixc* geometry (https://certif.com/spec_help/sixc.html):\n",
    "\n",
    "name    | mnemonic   | description\n",
    "-----   | -----      | -----\n",
    "Delta   | del        | Detector arm rotation\n",
    "Theta   | th         | Rotates sample circles\n",
    "Chi     | chi        | Sample tilt\n",
    "Phi     | phi        | Sample rotation\n",
    "Mu      | mu         | Diffractometer rotation\n",
    "Gamma   | gam        | Out-of-plane detector rotation\n",
    "\n",
    "> When the azimuthal angle is set to 90 degrees in the azimuth-fixed modes (3, 6, 9 and 12), the incident angle alpha will be equal to the exit angle beta."
   ],
   "cell_type": "markdown",
   "metadata": {}
  },
  {
   "cell_type": "code",
   "execution_count": 1,
   "metadata": {},
   "outputs": [],
   "source": [
    "# mapping of axis names between E6C and SPEC\n",
    "AXIS_NAME_MAP = dict(\n",
    "    # remap so we can use the sixc names\n",
    "    # E6C  sixc\n",
    "    mu='mu',  # Diffractometer rotation around vertical axis\n",
    "    omega='theta',  # Rotates chi around horizontal axis\n",
    "    chi='chi',  # Rotates phi around beam axis\n",
    "    phi='phi',  # Sample rotation around horizontal axis (when phi is co-linear with omega)\n",
    "    gamma='gamma',  # Diffractometer rotation around vertical axis\n",
    "    delta='delta',  # Detector arm rotation\n",
    ")"
   ]
  },
  {
   "cell_type": "code",
   "execution_count": 2,
   "metadata": {},
   "outputs": [
    {
     "output_type": "stream",
     "name": "stdout",
     "text": [
      "============ ==============================================================================================================================================================================================\nterm         value                                                                                                                                                                                         \n============ ==============================================================================================================================================================================================\nSPEC file    /home/33id/data/junelee/20130213/LNO1/JL124_1.spc                                                                                                                                             \nscan #       52                                                                                                                                                                                            \nSPEC scanCmd hklscan  0.5 0.5  0.5 0.5  1.2 1.8  120 1                                                                                                                                                     \ngeometry     sixc                                                                                                                                                                                          \nmode         Z-Axis with Azimuth fixed and Chi, Phi set to -Sigma, -Tau                                                                                                                                    \nlattice      LatticeParameters(a=3.905, b=3.905, c=3.905, alpha=90.0, beta=90.0, gamma=90.0)                                                                                                               \nwavelength   0.8265616267                                                                                                                                                                                  \nreflection 1 Reflections(h=0.0, k=0.0, l=2.0, wavelength=0.8265616267, angles=OrderedDict([('del', 0.003), ('th', 90.0), ('chi', 0.5799999712), ('phi', 239.9999477), ('mu', 12.102), ('gam', 12.9945)]))  \nreflection 2 Reflections(h=3.0, k=0.0, l=3.0, wavelength=0.8265616267, angles=OrderedDict([('del', 47.18), ('th', 90.0), ('chi', 0.5799999712), ('phi', 239.9999477), ('mu', 21.77425), ('gam', 15.7375)]))\n[UB]         [[ 1.20770271  1.24845482  0.00209558]                                                                                                                                                        \n              [-1.48561242  0.91180747  0.00324183]                                                                                                                                                        \n              [-0.01737524  0.02282508  1.65153055]]                                                                                                                                                       \n============ ==============================================================================================================================================================================================\n\n"
     ]
    }
   ],
   "source": [
    "import pyRestTable\n",
    "from spec2nexus.spec import SpecDataFile\n",
    "\n",
    "specfile = SpecDataFile(\"hkl_data/JL124_1_s52.spc\")\n",
    "specscan = specfile.getScan(52)\n",
    "\n",
    "spec_d = specscan.diffractometer\n",
    "spec_d.UB = spec_d.geometry_parameters[\"ub_matrix\"][2]\n",
    "\n",
    "terms = {\n",
    "    \"SPEC file\": specfile.specFile,\n",
    "    \"scan #\": specscan.scanNum,\n",
    "    \"SPEC scanCmd\": specscan.scanCmd,\n",
    "    \"geometry\": spec_d.geometry_name,\n",
    "    \"mode\": spec_d.mode,\n",
    "    \"lattice\": spec_d.lattice,\n",
    "    \"wavelength\": spec_d.wavelength,\n",
    "    \"reflection 1\": spec_d.reflections[0],\n",
    "    \"reflection 2\": spec_d.reflections[1],\n",
    "    \"[UB]\": spec_d.UB,\n",
    "}\n",
    "tbl = pyRestTable.Table()\n",
    "tbl.labels = \"term value\".split()\n",
    "for k, v in terms.items():\n",
    "    tbl.addRow((k, v))\n",
    "print(tbl)"
   ]
  },
  {
   "cell_type": "code",
   "execution_count": 3,
   "metadata": {},
   "outputs": [],
   "source": [
    "%matplotlib inline\n",
    "\n",
    "import pandas as pd\n",
    "import numpy as np\n",
    "import matplotlib.pyplot as plt\n",
    "import spec2nexus\n",
    "\n",
    "import gi\n",
    "gi.require_version('Hkl', '5.0')\n",
    "from hkl.diffract import E6C\n",
    "from hkl.util import Lattice\n",
    "\n",
    "from ophyd import (PseudoSingle, SoftPositioner)\n",
    "from ophyd import Component as Cpt"
   ]
  },
  {
   "cell_type": "code",
   "execution_count": 4,
   "metadata": {},
   "outputs": [
    {
     "output_type": "stream",
     "name": "stdout",
     "text": [
      "SoftPositioner(name='e6c_mu', parent='e6c', settle_time=0.0, timeout=None, egu='', limits=(0, 0), source='computed')\n",
      "SoftPositioner(name='e6c_omega', parent='e6c', settle_time=0.0, timeout=None, egu='', limits=(0, 0), source='computed')\n",
      "SoftPositioner(name='e6c_chi', parent='e6c', settle_time=0.0, timeout=None, egu='', limits=(0, 0), source='computed')\n",
      "SoftPositioner(name='e6c_phi', parent='e6c', settle_time=0.0, timeout=None, egu='', limits=(0, 0), source='computed')\n",
      "SoftPositioner(name='e6c_gamma', parent='e6c', settle_time=0.0, timeout=None, egu='', limits=(0, 0), source='computed')\n",
      "SoftPositioner(name='e6c_delta', parent='e6c', settle_time=0.0, timeout=None, egu='', limits=(0, 0), source='computed')\n",
      "G0: 12 0 1 -0.002814275157 0.007740448308 0.9999660821 0 0 0 0 0 0 600 0 1 1 143.6\n",
      "G1: 3.905 3.905 3.905 90 90 90 1.609010322 1.609010322 1.609010322 90 90 90 0 0 2\n",
      "  3 0 3 0.003 90 0.5799999712 239.9999477 12.102 12.9945 47.18 90 0.5799999712 239.9999477\n",
      "  21.77425 15.7375 0.8265616267 0.8265616267\n",
      "G3: 1.207702707 1.248454819 0.002095582696 -1.485612421 0.9118074731 0.003241829804\n",
      "  -0.0173752388 0.02282507942 1.651530555\n",
      "G4: 2.998037021 0.002160676878 2.996606618 0.8265616267 21.73024942 15.73707597 66.518375\n",
      "  59.48580986 -94.28612051 -0.5799999712 -239.9999477 0 0 0 -92.49362136 0 0 0 0 0\n",
      "  0 -180 -180 -180 -180 -180 -180 0\n",
      "\n"
     ]
    }
   ],
   "source": [
    "class This(E6C):\n",
    "    h = Cpt(PseudoSingle, '')\n",
    "    k = Cpt(PseudoSingle, '')\n",
    "    l = Cpt(PseudoSingle, '')\n",
    "    mu = Cpt(SoftPositioner)\n",
    "    omega = Cpt(SoftPositioner)\n",
    "    chi = Cpt(SoftPositioner)\n",
    "    phi = Cpt(SoftPositioner)\n",
    "    gamma = Cpt(SoftPositioner)\n",
    "    delta = Cpt(SoftPositioner)\n",
    "\n",
    "    def __init__(self, *args, **kwargs):\n",
    "        super().__init__(*args, **kwargs)\n",
    "\n",
    "        for p in self.real_positioners:\n",
    "            p._set_position(0)  # give each a starting position\n",
    "\n",
    "e6c = This(\"\", name=\"e6c\")\n",
    "print(\"\\n\".join(map(str, e6c.real_positioners)))\n",
    "import yaml\n",
    "print(yaml.dump(specscan.G))"
   ]
  },
  {
   "cell_type": "code",
   "execution_count": 5,
   "metadata": {},
   "outputs": [
    {
     "output_type": "stream",
     "name": "stdout",
     "text": [
      "(PosCalcE6C(mu=0.0, omega=-27.97391316589647, chi=-120.00000000000001, phi=0.0, gamma=-30.996525444813518, delta=-38.344980261923986), PosCalcE6C(mu=0.0, omega=-27.97391316589647, chi=-120.00000000000001, phi=0.0, gamma=149.00347455518647, delta=-141.65501973807605))\n",
      "bissector_vertical (3, 0, 3) PosCalcE6C(mu=0.0, omega=67.68234833655978, chi=139.5004906975483, phi=129.21870663340866, gamma=0.0, delta=135.36469667311957)\n",
      "constant_omega_vertical (3, 0, 3) no solution\n",
      "constant_chi_vertical (3, 0, 3) PosCalcE6C(mu=0.0, omega=-26.264973297127604, chi=-120.00000000000001, phi=9.674485199071988, gamma=0.0, delta=-135.3646966731196)\n",
      "constant_phi_vertical (3, 0, 3) PosCalcE6C(mu=0.0, omega=31.58777850004291, chi=53.48670337763097, phi=0.0, gamma=0.0, delta=135.36469667311957)\n",
      "lifting_detector_phi (3, 0, 3) no solution\n",
      "lifting_detector_omega (3, 0, 3) PosCalcE6C(mu=0.0, omega=-32.00865186003745, chi=-120.00000000000001, phi=0.0, gamma=-13.404723805458783, delta=-137.01416647059162)\n",
      "lifting_detector_mu (3, 0, 3) no solution\n",
      "double_diffraction_vertical (3, 0, 3) no solution\n",
      "bissector_horizontal (3, 0, 3) PosCalcE6C(mu=-67.68234833655978, omega=1.7848965847989348e-35, chi=130.49950930245168, phi=-50.78129336659135, gamma=-135.36469667311957, delta=0.0)\n",
      "double_diffraction_horizontal (3, 0, 3) no solution\n",
      "psi_constant_vertical (3, 0, 3) PosCalcE6C(mu=0.0, omega=62.817281854177445, chi=89.87264321243354, phi=39.10993530284701, gamma=0.0, delta=-135.36469667311948)\n",
      "psi_constant_horizontal (3, 0, 3) PosCalcE6C(mu=0.0, omega=38.63519194712502, chi=103.29596815903612, phi=21.080230412620633, gamma=-135.36469667311957, delta=0.0)\n",
      "constant_mu_horizontal (3, 0, 3) no solution\n",
      "bissector_vertical (0, 0, 2) PosCalcE6C(mu=0.0, omega=23.877900192534586, chi=89.8660776125703, phi=57.12297985830933, gamma=0.0, delta=47.75580038506917)\n",
      "constant_chi_vertical (0, 0, 2) no solution\n",
      "constant_phi_vertical (0, 0, 2) PosCalcE6C(mu=0.0, omega=23.990373225530274, chi=89.927301791686, phi=0.0, gamma=0.0, delta=47.755800385069186)\n",
      "lifting_detector_omega (0, 0, 2) PosCalcE6C(mu=0.0, omega=-27.973913162552734, chi=-120.00000000000001, phi=0.0, gamma=-30.99652544234211, delta=-38.34498026234804)\n",
      "bissector_horizontal (0, 0, 2) PosCalcE6C(mu=-23.877900192534685, omega=-5.314172724725106e-53, chi=179.86607761257076, phi=57.12297985823302, gamma=-47.75580038506937, delta=0.0)\n",
      "psi_constant_vertical (0, 0, 2) PosCalcE6C(mu=0.0, omega=23.83648693360791, chi=90.1273583552991, phi=-140.89006586063522, gamma=0.0, delta=47.7558003850692)\n",
      "psi_constant_horizontal (0, 0, 2) PosCalcE6C(mu=0.0, omega=90.31087139267841, chi=156.07658277896124, phi=-12.86565508698122, gamma=-47.75580038506912, delta=0.0)\n",
      "['bissector_vertical', 'constant_chi_vertical', 'constant_phi_vertical', 'lifting_detector_omega', 'bissector_horizontal', 'psi_constant_vertical', 'psi_constant_horizontal']\n"
     ]
    }
   ],
   "source": [
    "# get the UB matrix from the SPEC data\n",
    "e6c.UB.put(spec_d.UB[[1,2,0], :])\n",
    "# print(e6c.engine.modes)\n",
    "e6c.engine.mode = \"lifting_detector_omega\"\n",
    "# e6c.calc[\"chi\"].limits = (88, 92)\n",
    "# e6c.calc[\"chi\"].fit = False\n",
    "# e6c.calc[\"chi\"].value = 240\n",
    "e6c.chi.move(240)\n",
    "\n",
    "# SPEC: del   th mu           chi         phi      gam\n",
    "# (002) 0.003 90 0.5799999712 239.9999477 12.102   12.9945\n",
    "# (303) 47.18 90 0.5799999712 239.9999477 21.77425 15.7375\n",
    "# print(e6c.forward(0.5, 0.5, 1.2))\n",
    "print(e6c.calc.forward((0, 0, 2)))\n",
    "modes = []\n",
    "r_hkl = (3, 0, 3)\n",
    "for mode in e6c.engine.modes:\n",
    "    e6c.engine.mode = mode\n",
    "    try:\n",
    "        sol = e6c.forward(r_hkl)\n",
    "        modes.append(mode)\n",
    "        print(mode, r_hkl, sol)\n",
    "    except Exception:\n",
    "        print(mode, r_hkl, \"no solution\")\n",
    "r_hkl = (0, 0, 2)\n",
    "for mode in modes:\n",
    "    e6c.engine.mode = mode\n",
    "    try:\n",
    "        sol = e6c.forward(r_hkl)\n",
    "        print(mode, r_hkl, sol)\n",
    "    except Exception:\n",
    "        print(mode, r_hkl, \"no solution\")\n",
    "print(modes)"
   ]
  },
  {
   "cell_type": "code",
   "execution_count": 6,
   "metadata": {},
   "outputs": [],
   "source": [
    "# TODO: compare in a table, as in e4cv"
   ]
  },
  {
   "cell_type": "code",
   "execution_count": 7,
   "metadata": {},
   "outputs": [],
   "source": [
    "class Diffractometer(E6C):\n",
    "    h = Cpt(PseudoSingle, '')\n",
    "    k = Cpt(PseudoSingle, '')\n",
    "    l = Cpt(PseudoSingle, '')\n",
    "\n",
    "    # use the SPEC axis names here\n",
    "    mu = Cpt(SoftPositioner)\n",
    "    theta = Cpt(SoftPositioner)\n",
    "    chi = Cpt(SoftPositioner)\n",
    "    phi = Cpt(SoftPositioner)\n",
    "    gamma = Cpt(SoftPositioner)\n",
    "    delta = Cpt(SoftPositioner)\n",
    "\n",
    "    def __init__(self, *args, **kwargs):\n",
    "        super().__init__(*args, **kwargs)\n",
    "\n",
    "        for p in self.real_positioners:\n",
    "            p._set_position(0)  # give each a starting position"
   ]
  },
  {
   "cell_type": "code",
   "execution_count": 8,
   "metadata": {},
   "outputs": [],
   "source": [
    "sixc = Diffractometer(\"\", name=\"sixc\")\n",
    "\n",
    "sixc.calc.physical_axis_names = AXIS_NAME_MAP"
   ]
  },
  {
   "source": [
    "```\n",
    "sample: JL124_1\n",
    "crystal:  3.905 3.905 3.905 90 90 90\n",
    "geometry: sixc\n",
    "mode: 12 (Z-Axis with Azimuth fixed and Chi, Phi set to -Sigma, -Tau)\n",
    "lambda: 0.8265616267\n",
    "r1: (0, 0, 2) 0.003 90 0.5799999712 239.9999477 12.102 12.9945\n",
    "r2: (3, 0, 3) 47.18 90 0.5799999712 239.9999477 21.77425 15.7375\n",
    "Q: (2.99804, 0.00216068, 2.99661) 47.14125 90.089 0.58 239.94275 21.73025 15.7375\n",
    "UB: 1.207702707 1.248454819 0.002095582696 \n",
    "    -1.485612421 0.9118074731 0.003241829804 \n",
    "    -0.0173752388 0.02282507942 1.651530555\n",
    "```"
   ],
   "cell_type": "markdown",
   "metadata": {}
  },
  {
   "cell_type": "code",
   "execution_count": 9,
   "metadata": {},
   "outputs": [
    {
     "output_type": "execute_result",
     "data": {
      "text/plain": [
       "HklSample(name='JL124_1', lattice=LatticeTuple(a=3.905, b=3.905, c=3.905, alpha=90.0, beta=90.0, gamma=90.0), ux=Parameter(name='None (internally: ux)', limits=(min=-180.0, max=180.0), value=0.0, fit=True, inverted=False, units='Degree'), uy=Parameter(name='None (internally: uy)', limits=(min=-180.0, max=180.0), value=0.0, fit=True, inverted=False, units='Degree'), uz=Parameter(name='None (internally: uz)', limits=(min=-180.0, max=180.0), value=0.0, fit=True, inverted=False, units='Degree'), U=array([[1., 0., 0.],\n",
       "       [0., 1., 0.],\n",
       "       [0., 0., 1.]]), UB=array([[ 1.60901032e+00, -9.85234670e-17, -9.85234670e-17],\n",
       "       [ 0.00000000e+00,  1.60901032e+00, -9.85234670e-17],\n",
       "       [ 0.00000000e+00,  0.00000000e+00,  1.60901032e+00]]), reflections=[])"
      ]
     },
     "metadata": {},
     "execution_count": 9
    }
   ],
   "source": [
    "lattice = Lattice(\n",
    "    a=3.905, b=3.905, c=3.905,\n",
    "    alpha=90.0, beta=90.0, gamma=90.0)\n",
    "\n",
    "# add the sample to the calculation engine\n",
    "sixc.calc.new_sample(\n",
    "    \"JL124_1\",\n",
    "    lattice=Lattice(\n",
    "        a=3.905, b=3.905, c=3.905,\n",
    "        alpha=90.0, beta=90.0, gamma=90.0)\n",
    "    )"
   ]
  },
  {
   "cell_type": "code",
   "execution_count": 10,
   "metadata": {},
   "outputs": [
    {
     "output_type": "execute_result",
     "data": {
      "text/plain": [
       "1"
      ]
     },
     "metadata": {},
     "execution_count": 10
    }
   ],
   "source": [
    "sixc.calc.wavelength = 0.8265616267 # angstrom\n",
    "\n",
    "# SPEC motors (in order): del th chi phi mu gam\n",
    "# r1: (0, 0, 2) 0.003 90 0.5799999712 239.9999477 12.102 12.9945\n",
    "# r2: (3, 0, 3) 47.18 90 0.5799999712 239.9999477 21.77425 15.7375\n",
    "\n",
    "r1 = sixc.calc.sample.add_reflection(\n",
    "    0, 0, 2, \n",
    "    position=sixc.calc.Position(\n",
    "        delta=0.003, \n",
    "        theta=90, \n",
    "        chi=0.5799999712,\n",
    "        phi=239.9999477, \n",
    "        mu=12.102, \n",
    "        gamma=12.9945,\n",
    "        )\n",
    "    )\n",
    "r2 = sixc.calc.sample.add_reflection(\n",
    "    3, 0, 3, \n",
    "    position=sixc.calc.Position(\n",
    "        delta=47.18, \n",
    "        theta=90, \n",
    "        chi=0.5799999712,\n",
    "        phi=239.9999477, \n",
    "        mu=21.77425, \n",
    "        gamma=15.7375,\n",
    "        )\n",
    "    )\n",
    "sixc.calc.sample.compute_UB(r1, r2)"
   ]
  },
  {
   "cell_type": "code",
   "execution_count": 11,
   "metadata": {},
   "outputs": [
    {
     "output_type": "execute_result",
     "data": {
      "text/plain": [
       "array([[-1.2466385 ,  1.00614404,  0.14993609],\n",
       "       [ 0.06162735, -0.16202206,  1.59964532],\n",
       "       [ 1.015386  ,  1.24512539,  0.08699568]])"
      ]
     },
     "metadata": {},
     "execution_count": 11
    }
   ],
   "source": [
    "# UB: 1.207702707 1.248454819 0.002095582696 \n",
    "#     -1.485612421 0.9118074731 0.003241829804 \n",
    "#     -0.0173752388 0.02282507942 1.651530555\n",
    "\n",
    "# FIXME:  must get same numbers, probably in different rows\n",
    "\n",
    "sixc.UB.get()"
   ]
  },
  {
   "cell_type": "code",
   "execution_count": 12,
   "metadata": {},
   "outputs": [
    {
     "output_type": "stream",
     "name": "stdout",
     "text": [
      "calc.wavelength is 0.8265616267\n",
      "sample is HklSample(name='JL124_1', lattice=LatticeTuple(a=3.905, b=3.905, c=3.905, alpha=90.0, beta=90.0, gamma=90.0), ux=Parameter(name='None (internally: ux)', limits=(min=-180.0, max=180.0), value=-86.88707255123839, fit=True, inverted=False, units='Degree'), uy=Parameter(name='None (internally: uy)', limits=(min=-180.0, max=180.0), value=5.3468811222840165, fit=True, inverted=False, units='Degree'), uz=Parameter(name='None (internally: uz)', limits=(min=-180.0, max=180.0), value=-141.09349844908007, fit=True, inverted=False, units='Degree'), U=array([[-0.77478589,  0.62531858,  0.09318529],\n",
      "       [ 0.0383014 , -0.10069672,  0.99417965],\n",
      "       [ 0.63106246,  0.77384549,  0.05406782]]), UB=array([[-1.2466385 ,  1.00614404,  0.14993609],\n",
      "       [ 0.06162735, -0.16202206,  1.59964532],\n",
      "       [ 1.015386  ,  1.24512539,  0.08699568]]), reflections=[(h=0.0, k=0.0, l=2.0), (h=3.0, k=0.0, l=3.0)], reflection_measured_angles=array([[0.        , 1.23564414],\n",
      "       [1.23564414, 0.        ]]), reflection_theoretical_angles=array([[0.        , 0.78539816],\n",
      "       [0.78539816, 0.        ]]))\n",
      "position is DiffractometerPseudoPos(h=0.0, k=0.0, l=0.0)\n",
      "sample name is JL124_1\n",
      "u matrix is [[-0.77478589  0.62531858  0.09318529]\n",
      " [ 0.0383014  -0.10069672  0.99417965]\n",
      " [ 0.63106246  0.77384549  0.05406782]] {'sixc_U': {'source': 'PY:sixc.calc.sample.U', 'dtype': 'array', 'shape': [3, 3]}}\n",
      "ub matrix is [[-1.2466385   1.00614404  0.14993609]\n",
      " [ 0.06162735 -0.16202206  1.59964532]\n",
      " [ 1.015386    1.24512539  0.08699568]] {'sixc_UB': {'source': 'PY:sixc.calc.sample.UB', 'dtype': 'array', 'shape': [3, 3]}}\n",
      "reflections: [[0. 0. 2.]\n",
      " [3. 0. 3.]] {'sixc_reflections': {'source': 'PY:sixc.calc.sample.reflections', 'dtype': 'array', 'shape': [2, 3]}}\n",
      "ux is -86.88707255123839 {'sixc_ux': {'source': 'PY:sixc.calc.sample.ux.value', 'dtype': 'number', 'shape': []}}\n",
      "uy is 5.3468811222840165 {'sixc_uy': {'source': 'PY:sixc.calc.sample.uy.value', 'dtype': 'number', 'shape': []}}\n",
      "uz is -141.09349844908007 {'sixc_uz': {'source': 'PY:sixc.calc.sample.uz.value', 'dtype': 'number', 'shape': []}}\n",
      "lattice is [ 3.905  3.905  3.905 90.    90.    90.   ] {'sixc_lattice': {'source': 'PY:sixc.calc.sample.lattice', 'dtype': 'array', 'shape': [6]}}\n",
      "OrderedDict([('sixc_h', {'value': 0.0, 'timestamp': 1607320176.3933952}), ('sixc_h_setpoint', {'value': 0.0, 'timestamp': 1607320176.393514}), ('sixc_k', {'value': 0.0, 'timestamp': 1607320176.3942313}), ('sixc_k_setpoint', {'value': 0.0, 'timestamp': 1607320176.3943505}), ('sixc_l', {'value': 0.0, 'timestamp': 1607320176.3947651}), ('sixc_l_setpoint', {'value': 0.0, 'timestamp': 1607320176.394884}), ('sixc_mu', {'value': 0, 'timestamp': 1607320203.7948568}), ('sixc_theta', {'value': 0, 'timestamp': 1607320203.7948658}), ('sixc_chi', {'value': 0, 'timestamp': 1607320203.7948737}), ('sixc_phi', {'value': 0, 'timestamp': 1607320203.794881}), ('sixc_gamma', {'value': 0, 'timestamp': 1607320203.7950253}), ('sixc_delta', {'value': 0, 'timestamp': 1607320203.7950404})])\n"
     ]
    }
   ],
   "source": [
    "print('calc.wavelength is', sixc.calc.wavelength)\n",
    "print('sample is', sixc.calc.sample)\n",
    "print('position is', sixc.position)\n",
    "\n",
    "print('sample name is', sixc.sample_name.get())\n",
    "print('u matrix is', sixc.U.get(), sixc.U.describe())\n",
    "print('ub matrix is', sixc.UB.get(), sixc.UB.describe())\n",
    "print('reflections:',\n",
    "        sixc.reflections.get(),\n",
    "        sixc.reflections.describe())\n",
    "print('ux is', sixc.ux.get(), sixc.ux.describe())\n",
    "print('uy is', sixc.uy.get(), sixc.uy.describe())\n",
    "print('uz is', sixc.uz.get(), sixc.uz.describe())\n",
    "print('lattice is', sixc.lattice.get(), sixc.lattice.describe())\n",
    "print(sixc.read())"
   ]
  }
 ]
}