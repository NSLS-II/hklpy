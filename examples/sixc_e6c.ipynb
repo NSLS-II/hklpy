{
 "metadata": {
  "language_info": {
   "codemirror_mode": {
    "name": "ipython",
    "version": 3
   },
   "file_extension": ".py",
   "mimetype": "text/x-python",
   "name": "python",
   "nbconvert_exporter": "python",
   "pygments_lexer": "ipython3",
   "version": "3.8.2-final"
  },
  "orig_nbformat": 2,
  "kernelspec": {
   "name": "python3",
   "display_name": "Python 3"
  }
 },
 "nbformat": 4,
 "nbformat_minor": 2,
 "cells": [
  {
   "source": [
    "# JL124 E6C 6-circle example\n",
    "\n",
    "Compare with data acquired using SPEC\n",
    "\n",
    "In _hkl_ *E6C* geometry (https://people.debian.org/~picca/hkl/hkl.html#orge5e0490):\n",
    "\n",
    "<img src=\"4S+2D.png\" alt=\"E6C geometry\" width=\"30%\"/>\n",
    "\n",
    "* xrays incident on the $\\vec{x}$ direction (1, 0, 0)\n",
    "\n",
    "axis  | moves    | rotation about axis\n",
    "---   | ---      | ---\n",
    "mu    | sample   | $\\vec{z}$ `[0 0 1]`\n",
    "omega | sample   | $-\\vec{y}$ `[0 -1 0]`\n",
    "chi   | sample   | $\\vec{x}$ `[1 0 0]`\n",
    "phi   | sample   | $-\\vec{y}$ `[0 -1 0]`\n",
    "gamma | detector | $\\vec{z}$ `[0 0 1]`\n",
    "delta | detector | $-\\vec{y}$ `[0 -1 0]`"
   ],
   "cell_type": "markdown",
   "metadata": {}
  },
  {
   "cell_type": "code",
   "execution_count": 1,
   "metadata": {},
   "outputs": [],
   "source": [
    "%matplotlib inline\n",
    "\n",
    "import pandas as pd\n",
    "import numpy as np\n",
    "import matplotlib.pyplot as plt\n",
    "import spec2nexus\n",
    "\n",
    "import gi\n",
    "gi.require_version('Hkl', '5.0')\n",
    "from hkl.diffract import E6C\n",
    "from hkl.util import Lattice\n",
    "\n",
    "from ophyd import (PseudoSingle, SoftPositioner)\n",
    "from ophyd import Component as Cpt"
   ]
  },
  {
   "source": [
    "In SPEC *sixc* geometry (https://certif.com/spec_help/sixc.html):\n",
    "\n",
    "name    | mnemonic   | description\n",
    "-----   | -----      | -----\n",
    "Delta   | del        | Detector arm rotation\n",
    "Theta   | th         | Rotates sample circles\n",
    "Chi     | chi        | Sample tilt\n",
    "Phi     | phi        | Sample rotation\n",
    "Mu      | mu         | Diffractometer rotation\n",
    "Gamma   | gam        | Out-of-plane detector rotation\n",
    "\n",
    "> When the azimuthal angle is set to 90 degrees in the azimuth-fixed modes (3, 6, 9 and 12), the incident angle alpha will be equal to the exit angle beta."
   ],
   "cell_type": "markdown",
   "metadata": {}
  },
  {
   "cell_type": "code",
   "execution_count": 20,
   "metadata": {},
   "outputs": [],
   "source": [
    "# mapping of axis names between E6C and SPEC\n",
    "SPEC_AXIS_NAMES = {\n",
    "    # remap so we can use the sixc names\n",
    "    # E6C  sixc\n",
    "    'mu': 'mu',  # Diffractometer rotation around vertical axis\n",
    "    'omega': 'theta',  # Rotates chi around horizontal axis\n",
    "    'chi': 'chi',  # Rotates phi around beam axis\n",
    "    'phi': 'phi',  # Sample rotation around horizontal axis (when phi is co-linear with omega)\n",
    "    'gamma': 'gamma',  # Diffractometer rotation around vertical axis\n",
    "    'delta': 'delta',  # Detector arm rotation\n",
    "    }"
   ]
  },
  {
   "cell_type": "code",
   "execution_count": 23,
   "metadata": {},
   "outputs": [],
   "source": [
    "class Diffractometer(E6C):\n",
    "    h = Cpt(PseudoSingle, '')\n",
    "    k = Cpt(PseudoSingle, '')\n",
    "    l = Cpt(PseudoSingle, '')\n",
    "\n",
    "    # use the SPEC axis names here\n",
    "    mu = Cpt(SoftPositioner)\n",
    "    theta = Cpt(SoftPositioner)\n",
    "    chi = Cpt(SoftPositioner)\n",
    "    phi = Cpt(SoftPositioner)\n",
    "    gamma = Cpt(SoftPositioner)\n",
    "    delta = Cpt(SoftPositioner)\n",
    "\n",
    "    def __init__(self, *args, **kwargs):\n",
    "        super().__init__(*args, **kwargs)\n",
    "\n",
    "        for p in self.real_positioners:\n",
    "            p._set_position(0)  # give each a starting position"
   ]
  },
  {
   "cell_type": "code",
   "execution_count": 22,
   "metadata": {},
   "outputs": [],
   "source": [
    "sixc = Diffractometer(\"\", name=\"sixc\")\n",
    "\n",
    "sixc.calc.physical_axis_names = SPEC_AXIS_NAMES"
   ]
  },
  {
   "source": [
    "```\n",
    "sample: JL124_1\n",
    "crystal:  3.905 3.905 3.905 90 90 90\n",
    "geometry: sixc\n",
    "mode: 12 (Z-Axis with Azimuth fixed and Chi, Phi set to -Sigma, -Tau)\n",
    "lambda: 0.8265616267\n",
    "r1: (0, 0, 2) 0.003 90 0.5799999712 239.9999477 12.102 12.9945\n",
    "r2: (3, 0, 3) 47.18 90 0.5799999712 239.9999477 21.77425 15.7375\n",
    "Q: (2.99804, 0.00216068, 2.99661) 47.14125 90.089 0.58 239.94275 21.73025 15.7375\n",
    "UB: 1.207702707 1.248454819 0.002095582696 \n",
    "    -1.485612421 0.9118074731 0.003241829804 \n",
    "    -0.0173752388 0.02282507942 1.651530555\n",
    "```"
   ],
   "cell_type": "markdown",
   "metadata": {}
  },
  {
   "cell_type": "code",
   "execution_count": 15,
   "metadata": {},
   "outputs": [
    {
     "output_type": "execute_result",
     "data": {
      "text/plain": [
       "HklSample(name='JL124_1', lattice=LatticeTuple(a=3.905, b=3.905, c=3.905, alpha=90.0, beta=90.0, gamma=90.0), ux=Parameter(name='None (internally: ux)', limits=(min=-180.0, max=180.0), value=0.0, fit=True, inverted=False, units='Degree'), uy=Parameter(name='None (internally: uy)', limits=(min=-180.0, max=180.0), value=0.0, fit=True, inverted=False, units='Degree'), uz=Parameter(name='None (internally: uz)', limits=(min=-180.0, max=180.0), value=0.0, fit=True, inverted=False, units='Degree'), U=array([[1., 0., 0.],\n",
       "       [0., 1., 0.],\n",
       "       [0., 0., 1.]]), UB=array([[ 1.60901032e+00, -9.85234670e-17, -9.85234670e-17],\n",
       "       [ 0.00000000e+00,  1.60901032e+00, -9.85234670e-17],\n",
       "       [ 0.00000000e+00,  0.00000000e+00,  1.60901032e+00]]), reflections=[])"
      ]
     },
     "metadata": {},
     "execution_count": 15
    }
   ],
   "source": [
    "lattice = Lattice(\n",
    "    a=3.905, b=3.905, c=3.905,\n",
    "    alpha=90.0, beta=90.0, gamma=90.0)\n",
    "\n",
    "# add the sample to the calculation engine\n",
    "sixc.calc.new_sample(\n",
    "    \"JL124_1\",\n",
    "    lattice=Lattice(\n",
    "        a=3.905, b=3.905, c=3.905,\n",
    "        alpha=90.0, beta=90.0, gamma=90.0)\n",
    "    )"
   ]
  },
  {
   "source": [],
   "cell_type": "markdown",
   "metadata": {}
  },
  {
   "cell_type": "code",
   "execution_count": 16,
   "metadata": {},
   "outputs": [
    {
     "output_type": "execute_result",
     "data": {
      "text/plain": [
       "1"
      ]
     },
     "metadata": {},
     "execution_count": 16
    }
   ],
   "source": [
    "sixc.calc.wavelength = 0.8265616267 # angstrom\n",
    "\n",
    "# SPEC motors (in order): del th chi phi mu gam\n",
    "# r1: (0, 0, 2) 0.003 90 0.5799999712 239.9999477 12.102 12.9945\n",
    "# r2: (3, 0, 3) 47.18 90 0.5799999712 239.9999477 21.77425 15.7375\n",
    "\n",
    "r1 = sixc.calc.sample.add_reflection(\n",
    "    0, 0, 2, \n",
    "    position=sixc.calc.Position(\n",
    "        delta=0.003, \n",
    "        theta=90, \n",
    "        chi=0.5799999712,\n",
    "        phi=239.9999477, \n",
    "        mu=12.102, \n",
    "        gamma=12.9945,\n",
    "        )\n",
    "    )\n",
    "r2 = sixc.calc.sample.add_reflection(\n",
    "    3, 0, 3, \n",
    "    position=sixc.calc.Position(\n",
    "        delta=47.18, \n",
    "        theta=90, \n",
    "        chi=0.5799999712,\n",
    "        phi=239.9999477, \n",
    "        mu=21.77425, \n",
    "        gamma=15.7375,\n",
    "        )\n",
    "    )\n",
    "sixc.calc.sample.compute_UB(r1, r2)"
   ]
  },
  {
   "cell_type": "code",
   "execution_count": 1,
   "metadata": {},
   "outputs": [
    {
     "output_type": "error",
     "ename": "NameError",
     "evalue": "name 'sixc' is not defined",
     "traceback": [
      "\u001b[0;31m---------------------------------------------------------------------------\u001b[0m",
      "\u001b[0;31mNameError\u001b[0m                                 Traceback (most recent call last)",
      "\u001b[0;32m<ipython-input-1-f11bb0e4e6e0>\u001b[0m in \u001b[0;36m<module>\u001b[0;34m\u001b[0m\n\u001b[1;32m      5\u001b[0m \u001b[0;31m# FIXME:  must get same numbers, probably in different rows\u001b[0m\u001b[0;34m\u001b[0m\u001b[0;34m\u001b[0m\u001b[0;34m\u001b[0m\u001b[0m\n\u001b[1;32m      6\u001b[0m \u001b[0;34m\u001b[0m\u001b[0m\n\u001b[0;32m----> 7\u001b[0;31m \u001b[0msixc\u001b[0m\u001b[0;34m.\u001b[0m\u001b[0mUB\u001b[0m\u001b[0;34m.\u001b[0m\u001b[0mget\u001b[0m\u001b[0;34m(\u001b[0m\u001b[0;34m)\u001b[0m\u001b[0;34m\u001b[0m\u001b[0;34m\u001b[0m\u001b[0m\n\u001b[0m",
      "\u001b[0;31mNameError\u001b[0m: name 'sixc' is not defined"
     ]
    }
   ],
   "source": [
    "# UB: 1.207702707 1.248454819 0.002095582696 \n",
    "#     -1.485612421 0.9118074731 0.003241829804 \n",
    "#     -0.0173752388 0.02282507942 1.651530555\n",
    "\n",
    "# FIXME:  must get same numbers, probably in different rows\n",
    "\n",
    "sixc.UB.get()"
   ]
  },
  {
   "cell_type": "code",
   "execution_count": 6,
   "metadata": {},
   "outputs": [
    {
     "output_type": "stream",
     "name": "stdout",
     "text": [
      "calc.wavelength is 0.8265616267\n",
      "sample is HklSample(name='main', lattice=LatticeTuple(a=1.54, b=1.54, c=1.54, alpha=90.0, beta=90.0, gamma=90.0), ux=Parameter(name='None (internally: ux)', limits=(min=-180.0, max=180.0), value=-158.00938111589508, fit=True, inverted=False, units='Degree'), uy=Parameter(name='None (internally: uy)', limits=(min=-180.0, max=180.0), value=-70.82628430601865, fit=True, inverted=False, units='Degree'), uz=Parameter(name='None (internally: uz)', limits=(min=-180.0, max=180.0), value=-135.46551192711627, fit=True, inverted=False, units='Degree'), U=array([[-0.23411665,  0.23034296, -0.94452714],\n",
      "       [ 0.39819763,  0.909018  ,  0.12298345],\n",
      "       [ 0.88692054, -0.34731599, -0.30453827]]), UB=array([[-0.95519369,  0.93979709, -3.85366171],\n",
      "       [ 1.62464252,  3.70878476,  0.5017713 ],\n",
      "       [ 3.61862734, -1.41704593, -1.24251323]]), reflections=[(h=0.0, k=0.0, l=2.0), (h=3.0, k=0.0, l=3.0)], reflection_measured_angles=array([[0.        , 1.34386914],\n",
      "       [1.34386914, 0.        ]]), reflection_theoretical_angles=array([[0.        , 0.78539816],\n",
      "       [0.78539816, 0.        ]]))\n",
      "position is DiffractometerPseudoPos(h=0.0, k=0.0, l=0.0)\n",
      "sample name is main\n",
      "u matrix is [[-0.23411665  0.23034296 -0.94452714]\n",
      " [ 0.39819763  0.909018    0.12298345]\n",
      " [ 0.88692054 -0.34731599 -0.30453827]] {'sixc_U': {'source': 'PY:sixc.calc.sample.U', 'dtype': 'array', 'shape': [3, 3]}}\n",
      "ub matrix is [[-0.95519369  0.93979709 -3.85366171]\n",
      " [ 1.62464252  3.70878476  0.5017713 ]\n",
      " [ 3.61862734 -1.41704593 -1.24251323]] {'sixc_UB': {'source': 'PY:sixc.calc.sample.UB', 'dtype': 'array', 'shape': [3, 3]}}\n",
      "reflections: [[0. 0. 2.]\n",
      " [3. 0. 3.]] {'sixc_reflections': {'source': 'PY:sixc.calc.sample.reflections', 'dtype': 'array', 'shape': [2, 3]}}\n",
      "ux is -158.00938111589508 {'sixc_ux': {'source': 'PY:sixc.calc.sample.ux.value', 'dtype': 'number', 'shape': []}}\n",
      "uy is -70.82628430601865 {'sixc_uy': {'source': 'PY:sixc.calc.sample.uy.value', 'dtype': 'number', 'shape': []}}\n",
      "uz is -135.46551192711627 {'sixc_uz': {'source': 'PY:sixc.calc.sample.uz.value', 'dtype': 'number', 'shape': []}}\n",
      "lattice is [ 1.54  1.54  1.54 90.   90.   90.  ] {'sixc_lattice': {'source': 'PY:sixc.calc.sample.lattice', 'dtype': 'array', 'shape': [6]}}\n",
      "OrderedDict([('sixc_h', {'value': 0.0, 'timestamp': 1607224648.497805}), ('sixc_h_setpoint', {'value': 0.0, 'timestamp': 1607224648.4978442}), ('sixc_k', {'value': 0.0, 'timestamp': 1607224648.499546}), ('sixc_k_setpoint', {'value': 0.0, 'timestamp': 1607224648.4996011}), ('sixc_l', {'value': 0.0, 'timestamp': 1607224648.499765}), ('sixc_l_setpoint', {'value': 0.0, 'timestamp': 1607224648.4998035}), ('sixc_theta', {'value': 0, 'timestamp': 1607224658.531216}), ('sixc_omega', {'value': 0, 'timestamp': 1607224658.5312204}), ('sixc_chi', {'value': 0, 'timestamp': 1607224658.531224}), ('sixc_phi', {'value': 0, 'timestamp': 1607224658.5312276}), ('sixc_delta', {'value': 0, 'timestamp': 1607224658.5312307}), ('sixc_gamma', {'value': 0, 'timestamp': 1607224658.5312347})])\n"
     ]
    }
   ],
   "source": [
    "print('calc.wavelength is', sixc.calc.wavelength)\n",
    "print('sample is', sixc.calc.sample)\n",
    "print('position is', sixc.position)\n",
    "\n",
    "print('sample name is', sixc.sample_name.get())\n",
    "print('u matrix is', sixc.U.get(), sixc.U.describe())\n",
    "print('ub matrix is', sixc.UB.get(), sixc.UB.describe())\n",
    "print('reflections:',\n",
    "        sixc.reflections.get(),\n",
    "        sixc.reflections.describe())\n",
    "print('ux is', sixc.ux.get(), sixc.ux.describe())\n",
    "print('uy is', sixc.uy.get(), sixc.uy.describe())\n",
    "print('uz is', sixc.uz.get(), sixc.uz.describe())\n",
    "print('lattice is', sixc.lattice.get(), sixc.lattice.describe())\n",
    "print(sixc.read())"
   ]
  }
 ]
}