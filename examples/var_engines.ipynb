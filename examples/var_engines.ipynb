{
 "cells": [
  {
   "cell_type": "markdown",
   "id": "professional-mechanics",
   "metadata": {},
   "source": [
    "# Using other calc engines and reference vectors\n",
    "\n",
    "Many of the diffractometer geometries support different calculation *engines*.  By\n",
    "default, *hklpy* provides `h`, `k`, & `l` pseudo positioners (the *hkl* engine)\n",
    "since this is the most common case, For \n",
    "example, the [E4CV](https://people.debian.org/~picca/hkl/hkl.html#org7ef08ba) geometry \n",
    "supports several calculation engines:\n",
    "\n",
    "engine | pseudo(s) | real(s)\n",
    ":--- | :--- | :---\n",
    "`hkl` | `h`, `k`, `l` | `omega`, `chi`, `phi`, `tth`\n",
    "`psi` | `psi` | `omega`, `chi`, `phi`, `tth`\n",
    "`q` | `q` | `tth`\n",
    "`incidence` | `incidence`, `azimuth` | `omega`, `chi`, `phi`\n",
    "`emergence` | `emergence`, `azimuth` | `omega`, `chi`, `phi`, `tth`\n"
   ]
  },
  {
   "cell_type": "code",
   "execution_count": 1,
   "id": "electric-functionality",
   "metadata": {},
   "outputs": [],
   "source": [
    "import gi\n",
    "gi.require_version('Hkl', '5.0')\n",
    "from hkl.calc import A_KEV"
   ]
  },
  {
   "cell_type": "markdown",
   "id": "scheduled-burke",
   "metadata": {},
   "source": [
    "## `q` engine\n",
    "\n",
    "https://people.debian.org/~picca/hkl/hkl.html#org7ef08ba\n",
    "\n",
    "\n",
    "term | value\n",
    ":--- | :---\n",
    "geometry | `E4CV`\n",
    "engine | `q`\n",
    "mode | *default*\n"
   ]
  },
  {
   "cell_type": "code",
   "execution_count": 2,
   "id": "challenging-integration",
   "metadata": {},
   "outputs": [],
   "source": [
    "from hkl.geometries import E4CV\n",
    "from ophyd import Component\n",
    "from ophyd import PseudoSingle\n",
    "from ophyd import SoftPositioner\n",
    "\n",
    "class FourcQ(E4CV):\n",
    "    # one pseudo axis\n",
    "    q = Component(PseudoSingle)\n",
    "    \n",
    "    # four real axes (MUST specify in canonical order)\n",
    "    omega = Component(SoftPositioner, init_pos=20)\n",
    "    chi = Component(SoftPositioner, init_pos=90)\n",
    "    phi = Component(SoftPositioner, init_pos=0)\n",
    "    tth = Component(SoftPositioner, init_pos=40)  # \"q\" engine calls this \"tth\"\n"
   ]
  },
  {
   "cell_type": "code",
   "execution_count": 3,
   "id": "overhead-academy",
   "metadata": {},
   "outputs": [],
   "source": [
    "fcq = FourcQ(\"\", name=\"fcq\", calc_kw=dict(engine=\"q\"))"
   ]
  },
  {
   "cell_type": "code",
   "execution_count": 4,
   "id": "surprised-translation",
   "metadata": {},
   "outputs": [
    {
     "name": "stdout",
     "output_type": "stream",
     "text": [
      "Q to angle: fcq.forward(1) = PosCalcE4CV(omega=20.0, chi=90.0, phi=0.0, tth=14.0785064531777)\n"
     ]
    }
   ],
   "source": [
    "print(f\"Q to angle: {fcq.forward(1) = }\")"
   ]
  },
  {
   "cell_type": "code",
   "execution_count": 5,
   "id": "contrary-bosnia",
   "metadata": {},
   "outputs": [
    {
     "name": "stdout",
     "output_type": "stream",
     "text": [
      "angle to Q: fcq.inverse(1) = FourcQPseudoPos(q=2.790877843251037)\n"
     ]
    }
   ],
   "source": [
    "print(f\"angle to Q: {fcq.inverse(1) = }\")"
   ]
  },
  {
   "cell_type": "code",
   "execution_count": 6,
   "id": "pursuant-creek",
   "metadata": {},
   "outputs": [
    {
     "name": "stdout",
     "output_type": "stream",
     "text": [
      "===================== ================= =========\n",
      "term                  value             axis_type\n",
      "===================== ================= =========\n",
      "diffractometer        fcq                        \n",
      "sample name           main                       \n",
      "energy (keV)          8.05092                    \n",
      "wavelength (angstrom) 1.54000                    \n",
      "calc engine           q                          \n",
      "mode                  q                          \n",
      "q                     2.790877843251037 pseudo   \n",
      "omega                 20                real     \n",
      "chi                   90                real     \n",
      "phi                   0                 real     \n",
      "tth                   40                real     \n",
      "===================== ================= =========\n",
      "\n"
     ]
    },
    {
     "data": {
      "text/plain": [
       "<pyRestTable.rest_table.Table at 0x7fe06067c3d0>"
      ]
     },
     "execution_count": 6,
     "metadata": {},
     "output_type": "execute_result"
    }
   ],
   "source": [
    "fcq.wh()"
   ]
  },
  {
   "cell_type": "code",
   "execution_count": 7,
   "id": "descending-sherman",
   "metadata": {},
   "outputs": [
    {
     "name": "stdout",
     "output_type": "stream",
     "text": [
      "===================== ================= =========\n",
      "term                  value             axis_type\n",
      "===================== ================= =========\n",
      "diffractometer        fcq                        \n",
      "sample name           main                       \n",
      "energy (keV)          8.05092                    \n",
      "wavelength (angstrom) 1.54000                    \n",
      "calc engine           q                          \n",
      "mode                  q                          \n",
      "q                     1.000000000000004 pseudo   \n",
      "omega                 20.0              real     \n",
      "chi                   90.0              real     \n",
      "phi                   0.0               real     \n",
      "tth                   14.0785064531777  real     \n",
      "===================== ================= =========\n",
      "\n"
     ]
    },
    {
     "data": {
      "text/plain": [
       "<pyRestTable.rest_table.Table at 0x7fe0017679a0>"
      ]
     },
     "execution_count": 7,
     "metadata": {},
     "output_type": "execute_result"
    }
   ],
   "source": [
    "fcq.move(1)\n",
    "fcq.wh()"
   ]
  },
  {
   "cell_type": "code",
   "execution_count": 8,
   "id": "occasional-filling",
   "metadata": {},
   "outputs": [
    {
     "name": "stdout",
     "output_type": "stream",
     "text": [
      "===================== ====================================================================\n",
      "term                  value                                                               \n",
      "===================== ====================================================================\n",
      "diffractometer        fcq                                                                 \n",
      "geometry              E4CV                                                                \n",
      "class                 FourcQ                                                              \n",
      "energy (keV)          8.05092                                                             \n",
      "wavelength (angstrom) 1.54000                                                             \n",
      "calc engine           q                                                                   \n",
      "mode                  q                                                                   \n",
      "positions             ===== ========                                                      \n",
      "                      name  value                                                         \n",
      "                      ===== ========                                                      \n",
      "                      omega 20.00000                                                      \n",
      "                      chi   90.00000                                                      \n",
      "                      phi   0.00000                                                       \n",
      "                      tth   14.07851                                                      \n",
      "                      ===== ========                                                      \n",
      "constraints           ===== ========= ========== ================ ====                    \n",
      "                      axis  low_limit high_limit value            fit                     \n",
      "                      ===== ========= ========== ================ ====                    \n",
      "                      omega -180.0    180.0      20.0             True                    \n",
      "                      chi   -180.0    180.0      90.0             True                    \n",
      "                      phi   -180.0    180.0      0.0              True                    \n",
      "                      tth   -180.0    180.0      14.0785064531777 True                    \n",
      "                      ===== ========= ========== ================ ====                    \n",
      "sample: main          ================ ===================================================\n",
      "                      term             value                                              \n",
      "                      ================ ===================================================\n",
      "                      unit cell edges  a=1.54, b=1.54, c=1.54                             \n",
      "                      unit cell angles alpha=90.0, beta=90.0, gamma=90.0                  \n",
      "                      [U]              [[1. 0. 0.]                                        \n",
      "                                        [0. 1. 0.]                                        \n",
      "                                        [0. 0. 1.]]                                       \n",
      "                      [UB]             [[ 4.07999046e+00 -2.49827363e-16 -2.49827363e-16] \n",
      "                                        [ 0.00000000e+00  4.07999046e+00 -2.49827363e-16] \n",
      "                                        [ 0.00000000e+00  0.00000000e+00  4.07999046e+00]]\n",
      "                      ================ ===================================================\n",
      "===================== ====================================================================\n",
      "\n"
     ]
    },
    {
     "data": {
      "text/plain": [
       "<pyRestTable.rest_table.Table at 0x7fe001793190>"
      ]
     },
     "execution_count": 8,
     "metadata": {},
     "output_type": "execute_result"
    }
   ],
   "source": [
    "fcq.pa()"
   ]
  }
 ],
 "metadata": {
  "kernelspec": {
   "display_name": "bluesky_2021_1",
   "language": "python",
   "name": "bluesky_2021_1"
  },
  "language_info": {
   "codemirror_mode": {
    "name": "ipython",
    "version": 3
   },
   "file_extension": ".py",
   "mimetype": "text/x-python",
   "name": "python",
   "nbconvert_exporter": "python",
   "pygments_lexer": "ipython3",
   "version": "3.8.8"
  }
 },
 "nbformat": 4,
 "nbformat_minor": 5
}
