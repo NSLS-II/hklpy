{
 "metadata": {
  "language_info": {
   "codemirror_mode": {
    "name": "ipython",
    "version": 3
   },
   "file_extension": ".py",
   "mimetype": "text/x-python",
   "name": "python",
   "nbconvert_exporter": "python",
   "pygments_lexer": "ipython3",
   "version": "3.8.2-final"
  },
  "orig_nbformat": 2,
  "kernelspec": {
   "name": "python38264bitcondaf8e76b08f7284c68a6b3de15f965a87a",
   "display_name": "Python 3.8.2 64-bit (conda)"
  }
 },
 "nbformat": 4,
 "nbformat_minor": 2,
 "cells": [
  {
   "source": [
    "# E4CV:fourc 4-circle example\n",
    "\n",
    "Compare with data acquired using SPEC\n",
    "\n",
    "In _hkl_ *E4CV* geometry (https://people.debian.org/~picca/hkl/hkl.html#org7ef08ba):\n",
    "\n",
    "<img src=\"3S+1D.png\" alt=\"E4CV geometry\" width=\"30%\"/>\n",
    "\n",
    "* xrays incident on the $\\vec{x}$ direction (1, 0, 0)\n",
    "\n",
    "axis  | moves    | rotation about axis\n",
    "---   | :---     | :---\n",
    "omega | sample   | $-\\vec{y}$ `[0 -1 0]`\n",
    "chi   | sample   | $\\vec{x}$ `[1 0 0]`\n",
    "phi   | sample   | $-\\vec{y}$ `[0 -1 0]`\n",
    "tth   | detector | $-\\vec{y}$ `[0 -1 0]`"
   ],
   "cell_type": "markdown",
   "metadata": {}
  },
  {
   "source": [
    "In SPEC *fourc* geometry (https://certif.com/spec_help/fourc.html):\n",
    "\n",
    "name    | mnemonic   | description\n",
    "-----   | -----      | -----\n",
    "2theta  | tth        | Detector arm rotation\n",
    "Omega   | om         | Rotates sample circles\n",
    "Chi     | chi        | Sample tilt\n",
    "Phi     | phi        | Sample rotation\n",
    "\n",
    "No need for a mapping to rename the diffractometer axes between *SPEC* & *hlpy*.  Same names and meanings but default order is different.  Expect the UB orientation matix to be in different order, as well."
   ],
   "cell_type": "markdown",
   "metadata": {}
  },
  {
   "cell_type": "code",
   "execution_count": 1,
   "metadata": {},
   "outputs": [],
   "source": [
    "# mapping of axis names between hklpy and SPEC\n",
    "AXIS_NAME_MAP = dict(\n",
    "    # E4CV  fourc\n",
    "    tth='tth',   # Detector arm rotation\n",
    "    omega='th',  # Rotates chi around horizontal axis\n",
    "    chi='chi',   # Rotates phi around beam axis\n",
    "    phi='phi',   # Sample rotation around horizontal axis (when phi is co-linear with omega)\n",
    ")"
   ]
  },
  {
   "source": [
    "## Read the SPEC scan from the data file\n",
    "\n",
    "The SPEC file provides all the information needed here.  The\n",
    "[*spec2nexus*](https://github.com/prjemian/spec2nexus) \n",
    "(python) package can read the file and parse the content into useful \n",
    "structures, including deducing the diffractometer geometry in many cases."
   ],
   "cell_type": "markdown",
   "metadata": {}
  },
  {
   "source": [
    "import pyRestTable\n",
    "from spec2nexus.spec import SpecDataFile\n",
    "\n",
    "specfile = SpecDataFile(\"hkl_data/LNO_LAO_s14.dat\")\n",
    "specscan = specfile.getScan(14)\n",
    "\n",
    "spec_d = specscan.diffractometer\n",
    "spec_d.UB = spec_d.geometry_parameters[\"ub_matrix\"][2]\n",
    "\n",
    "terms = {\n",
    "    \"SPEC file\": specfile.specFile,\n",
    "    \"scan #\": specscan.scanNum,\n",
    "    \"SPEC scanCmd\": specscan.scanCmd,\n",
    "    \"geometry\": spec_d.geometry_name,\n",
    "    \"mode\": spec_d.mode,\n",
    "    \"lattice\": spec_d.lattice,\n",
    "    \"wavelength\": spec_d.wavelength,\n",
    "    \"reflection 1\": spec_d.reflections[0],\n",
    "    \"reflection 2\": spec_d.reflections[1],\n",
    "    \"[UB]\": spec_d.UB,\n",
    "}\n",
    "tbl = pyRestTable.Table()\n",
    "tbl.labels = \"term value\".split()\n",
    "for k, v in terms.items():\n",
    "    tbl.addRow((k, v))\n",
    "print(tbl)"
   ],
   "cell_type": "code",
   "metadata": {},
   "execution_count": 2,
   "outputs": [
    {
     "output_type": "stream",
     "name": "stdout",
     "text": [
      "============ =======================================================================================================================================================\nterm         value                                                                                                                                                  \n============ =======================================================================================================================================================\nSPEC file    LNO_LAO                                                                                                                                                \nscan #       14                                                                                                                                                     \nSPEC scanCmd hklscan  1.00133 1.00133  1.00133 1.00133  2.85 3.05  200 -400000                                                                                      \ngeometry     fourc                                                                                                                                                  \nmode         Omega equals zero                                                                                                                                      \nlattice      LatticeParameters(a=3.781726143, b=3.791444574, c=3.79890313, alpha=90.2546203, beta=90.01815424, gamma=89.89967858)                                   \nwavelength   1.239424258                                                                                                                                            \nreflection 1 Reflections(h=0.0, k=0.0, l=2.0, wavelength=1.239424258, angles=OrderedDict([('tth', 38.09875), ('th', 19.1335), ('chi', 90.0135), ('phi', 0.0)]))     \nreflection 2 Reflections(h=1.0, k=1.0, l=3.0, wavelength=1.239424258, angles=OrderedDict([('tth', 65.644), ('th', 32.82125), ('chi', 115.23625), ('phi', 48.1315)]))\n[UB]         [[-1.65871244e+00  9.82002413e-02 -3.89705578e-04]                                                                                                     \n              [-9.55499031e-02 -1.65427863e+00  2.42844486e-03]                                                                                                     \n              [ 2.62981891e-04  9.81574682e-03  1.65396181e+00]]                                                                                                    \n============ =======================================================================================================================================================\n\n"
     ]
    }
   ]
  },
  {
   "source": [
    "## Plot the (_hkl_) trajectories in the scan"
   ],
   "cell_type": "markdown",
   "metadata": {}
  },
  {
   "cell_type": "code",
   "execution_count": 3,
   "metadata": {},
   "outputs": [
    {
     "output_type": "display_data",
     "data": {
      "text/plain": "<Figure size 864x432 with 3 Axes>",
      "image/svg+xml": "<?xml version=\"1.0\" encoding=\"utf-8\" standalone=\"no\"?>\n<!DOCTYPE svg PUBLIC \"-//W3C//DTD SVG 1.1//EN\"\n  \"http://www.w3.org/Graphics/SVG/1.1/DTD/svg11.dtd\">\n<!-- Created with matplotlib (https://matplotlib.org/) -->\n<svg height=\"400.438125pt\" version=\"1.1\" viewBox=\"0 0 713.265625 400.438125\" width=\"713.265625pt\" xmlns=\"http://www.w3.org/2000/svg\" xmlns:xlink=\"http://www.w3.org/1999/xlink\">\n <metadata>\n  <rdf:RDF xmlns:cc=\"http://creativecommons.org/ns#\" xmlns:dc=\"http://purl.org/dc/elements/1.1/\" xmlns:rdf=\"http://www.w3.org/1999/02/22-rdf-syntax-ns#\">\n   <cc:Work>\n    <dc:type rdf:resource=\"http://purl.org/dc/dcmitype/StillImage\"/>\n    <dc:date>2020-12-06T23:42:31.197390</dc:date>\n    <dc:format>image/svg+xml</dc:format>\n    <dc:creator>\n     <cc:Agent>\n      <dc:title>Matplotlib v3.3.2, https://matplotlib.org/</dc:title>\n     </cc:Agent>\n    </dc:creator>\n   </cc:Work>\n  </rdf:RDF>\n </metadata>\n <defs>\n  <style type=\"text/css\">*{stroke-linecap:butt;stroke-linejoin:round;}</style>\n </defs>\n <g id=\"figure_1\">\n  <g id=\"patch_1\">\n   <path d=\"M 0 400.438125 \nL 713.265625 400.438125 \nL 713.265625 0 \nL 0 0 \nz\n\" style=\"fill:none;\"/>\n  </g>\n  <g id=\"axes_1\">\n   <g id=\"patch_2\">\n    <path d=\"M 36.465625 136.231579 \nL 706.065625 136.231579 \nL 706.065625 50.4 \nL 36.465625 50.4 \nz\n\" style=\"fill:#ffffff;\"/>\n   </g>\n   <g id=\"matplotlib.axis_1\">\n    <g id=\"xtick_1\">\n     <g id=\"line2d_1\">\n      <defs>\n       <path d=\"M 0 0 \nL 0 3.5 \n\" id=\"m0b5b7218b2\" style=\"stroke:#000000;stroke-width:0.8;\"/>\n      </defs>\n      <g>\n       <use style=\"stroke:#000000;stroke-width:0.8;\" x=\"66.901989\" xlink:href=\"#m0b5b7218b2\" y=\"136.231579\"/>\n      </g>\n     </g>\n     <g id=\"text_1\">\n      <!-- 0 -->\n      <g transform=\"translate(63.720739 150.830016)scale(0.1 -0.1)\">\n       <defs>\n        <path d=\"M 31.78125 66.40625 \nQ 24.171875 66.40625 20.328125 58.90625 \nQ 16.5 51.421875 16.5 36.375 \nQ 16.5 21.390625 20.328125 13.890625 \nQ 24.171875 6.390625 31.78125 6.390625 \nQ 39.453125 6.390625 43.28125 13.890625 \nQ 47.125 21.390625 47.125 36.375 \nQ 47.125 51.421875 43.28125 58.90625 \nQ 39.453125 66.40625 31.78125 66.40625 \nz\nM 31.78125 74.21875 \nQ 44.046875 74.21875 50.515625 64.515625 \nQ 56.984375 54.828125 56.984375 36.375 \nQ 56.984375 17.96875 50.515625 8.265625 \nQ 44.046875 -1.421875 31.78125 -1.421875 \nQ 19.53125 -1.421875 13.0625 8.265625 \nQ 6.59375 17.96875 6.59375 36.375 \nQ 6.59375 54.828125 13.0625 64.515625 \nQ 19.53125 74.21875 31.78125 74.21875 \nz\n\" id=\"DejaVuSans-48\"/>\n       </defs>\n       <use xlink:href=\"#DejaVuSans-48\"/>\n      </g>\n     </g>\n    </g>\n    <g id=\"xtick_2\">\n     <g id=\"line2d_2\">\n      <g>\n       <use style=\"stroke:#000000;stroke-width:0.8;\" x=\"149.609499\" xlink:href=\"#m0b5b7218b2\" y=\"136.231579\"/>\n      </g>\n     </g>\n     <g id=\"text_2\">\n      <!-- 25 -->\n      <g transform=\"translate(143.246999 150.830016)scale(0.1 -0.1)\">\n       <defs>\n        <path d=\"M 19.1875 8.296875 \nL 53.609375 8.296875 \nL 53.609375 0 \nL 7.328125 0 \nL 7.328125 8.296875 \nQ 12.9375 14.109375 22.625 23.890625 \nQ 32.328125 33.6875 34.8125 36.53125 \nQ 39.546875 41.84375 41.421875 45.53125 \nQ 43.3125 49.21875 43.3125 52.78125 \nQ 43.3125 58.59375 39.234375 62.25 \nQ 35.15625 65.921875 28.609375 65.921875 \nQ 23.96875 65.921875 18.8125 64.3125 \nQ 13.671875 62.703125 7.8125 59.421875 \nL 7.8125 69.390625 \nQ 13.765625 71.78125 18.9375 73 \nQ 24.125 74.21875 28.421875 74.21875 \nQ 39.75 74.21875 46.484375 68.546875 \nQ 53.21875 62.890625 53.21875 53.421875 \nQ 53.21875 48.921875 51.53125 44.890625 \nQ 49.859375 40.875 45.40625 35.40625 \nQ 44.1875 33.984375 37.640625 27.21875 \nQ 31.109375 20.453125 19.1875 8.296875 \nz\n\" id=\"DejaVuSans-50\"/>\n        <path d=\"M 10.796875 72.90625 \nL 49.515625 72.90625 \nL 49.515625 64.59375 \nL 19.828125 64.59375 \nL 19.828125 46.734375 \nQ 21.96875 47.46875 24.109375 47.828125 \nQ 26.265625 48.1875 28.421875 48.1875 \nQ 40.625 48.1875 47.75 41.5 \nQ 54.890625 34.8125 54.890625 23.390625 \nQ 54.890625 11.625 47.5625 5.09375 \nQ 40.234375 -1.421875 26.90625 -1.421875 \nQ 22.3125 -1.421875 17.546875 -0.640625 \nQ 12.796875 0.140625 7.71875 1.703125 \nL 7.71875 11.625 \nQ 12.109375 9.234375 16.796875 8.0625 \nQ 21.484375 6.890625 26.703125 6.890625 \nQ 35.15625 6.890625 40.078125 11.328125 \nQ 45.015625 15.765625 45.015625 23.390625 \nQ 45.015625 31 40.078125 35.4375 \nQ 35.15625 39.890625 26.703125 39.890625 \nQ 22.75 39.890625 18.8125 39.015625 \nQ 14.890625 38.140625 10.796875 36.28125 \nz\n\" id=\"DejaVuSans-53\"/>\n       </defs>\n       <use xlink:href=\"#DejaVuSans-50\"/>\n       <use x=\"63.623047\" xlink:href=\"#DejaVuSans-53\"/>\n      </g>\n     </g>\n    </g>\n    <g id=\"xtick_3\">\n     <g id=\"line2d_3\">\n      <g>\n       <use style=\"stroke:#000000;stroke-width:0.8;\" x=\"232.317008\" xlink:href=\"#m0b5b7218b2\" y=\"136.231579\"/>\n      </g>\n     </g>\n     <g id=\"text_3\">\n      <!-- 50 -->\n      <g transform=\"translate(225.954508 150.830016)scale(0.1 -0.1)\">\n       <use xlink:href=\"#DejaVuSans-53\"/>\n       <use x=\"63.623047\" xlink:href=\"#DejaVuSans-48\"/>\n      </g>\n     </g>\n    </g>\n    <g id=\"xtick_4\">\n     <g id=\"line2d_4\">\n      <g>\n       <use style=\"stroke:#000000;stroke-width:0.8;\" x=\"315.024518\" xlink:href=\"#m0b5b7218b2\" y=\"136.231579\"/>\n      </g>\n     </g>\n     <g id=\"text_4\">\n      <!-- 75 -->\n      <g transform=\"translate(308.662018 150.830016)scale(0.1 -0.1)\">\n       <defs>\n        <path d=\"M 8.203125 72.90625 \nL 55.078125 72.90625 \nL 55.078125 68.703125 \nL 28.609375 0 \nL 18.3125 0 \nL 43.21875 64.59375 \nL 8.203125 64.59375 \nz\n\" id=\"DejaVuSans-55\"/>\n       </defs>\n       <use xlink:href=\"#DejaVuSans-55\"/>\n       <use x=\"63.623047\" xlink:href=\"#DejaVuSans-53\"/>\n      </g>\n     </g>\n    </g>\n    <g id=\"xtick_5\">\n     <g id=\"line2d_5\">\n      <g>\n       <use style=\"stroke:#000000;stroke-width:0.8;\" x=\"397.732028\" xlink:href=\"#m0b5b7218b2\" y=\"136.231579\"/>\n      </g>\n     </g>\n     <g id=\"text_5\">\n      <!-- 100 -->\n      <g transform=\"translate(388.188278 150.830016)scale(0.1 -0.1)\">\n       <defs>\n        <path d=\"M 12.40625 8.296875 \nL 28.515625 8.296875 \nL 28.515625 63.921875 \nL 10.984375 60.40625 \nL 10.984375 69.390625 \nL 28.421875 72.90625 \nL 38.28125 72.90625 \nL 38.28125 8.296875 \nL 54.390625 8.296875 \nL 54.390625 0 \nL 12.40625 0 \nz\n\" id=\"DejaVuSans-49\"/>\n       </defs>\n       <use xlink:href=\"#DejaVuSans-49\"/>\n       <use x=\"63.623047\" xlink:href=\"#DejaVuSans-48\"/>\n       <use x=\"127.246094\" xlink:href=\"#DejaVuSans-48\"/>\n      </g>\n     </g>\n    </g>\n    <g id=\"xtick_6\">\n     <g id=\"line2d_6\">\n      <g>\n       <use style=\"stroke:#000000;stroke-width:0.8;\" x=\"480.439538\" xlink:href=\"#m0b5b7218b2\" y=\"136.231579\"/>\n      </g>\n     </g>\n     <g id=\"text_6\">\n      <!-- 125 -->\n      <g transform=\"translate(470.895788 150.830016)scale(0.1 -0.1)\">\n       <use xlink:href=\"#DejaVuSans-49\"/>\n       <use x=\"63.623047\" xlink:href=\"#DejaVuSans-50\"/>\n       <use x=\"127.246094\" xlink:href=\"#DejaVuSans-53\"/>\n      </g>\n     </g>\n    </g>\n    <g id=\"xtick_7\">\n     <g id=\"line2d_7\">\n      <g>\n       <use style=\"stroke:#000000;stroke-width:0.8;\" x=\"563.147048\" xlink:href=\"#m0b5b7218b2\" y=\"136.231579\"/>\n      </g>\n     </g>\n     <g id=\"text_7\">\n      <!-- 150 -->\n      <g transform=\"translate(553.603298 150.830016)scale(0.1 -0.1)\">\n       <use xlink:href=\"#DejaVuSans-49\"/>\n       <use x=\"63.623047\" xlink:href=\"#DejaVuSans-53\"/>\n       <use x=\"127.246094\" xlink:href=\"#DejaVuSans-48\"/>\n      </g>\n     </g>\n    </g>\n    <g id=\"xtick_8\">\n     <g id=\"line2d_8\">\n      <g>\n       <use style=\"stroke:#000000;stroke-width:0.8;\" x=\"645.854558\" xlink:href=\"#m0b5b7218b2\" y=\"136.231579\"/>\n      </g>\n     </g>\n     <g id=\"text_8\">\n      <!-- 175 -->\n      <g transform=\"translate(636.310808 150.830016)scale(0.1 -0.1)\">\n       <use xlink:href=\"#DejaVuSans-49\"/>\n       <use x=\"63.623047\" xlink:href=\"#DejaVuSans-55\"/>\n       <use x=\"127.246094\" xlink:href=\"#DejaVuSans-53\"/>\n      </g>\n     </g>\n    </g>\n   </g>\n   <g id=\"matplotlib.axis_2\">\n    <g id=\"ytick_1\">\n     <g id=\"line2d_9\">\n      <defs>\n       <path d=\"M 0 0 \nL -3.5 0 \n\" id=\"m8d16636295\" style=\"stroke:#000000;stroke-width:0.8;\"/>\n      </defs>\n      <g>\n       <use style=\"stroke:#000000;stroke-width:0.8;\" x=\"36.465625\" xlink:href=\"#m8d16636295\" y=\"133.314727\"/>\n      </g>\n     </g>\n     <g id=\"text_9\">\n      <!-- 0.95 -->\n      <g transform=\"translate(7.2 137.113946)scale(0.1 -0.1)\">\n       <defs>\n        <path d=\"M 10.6875 12.40625 \nL 21 12.40625 \nL 21 0 \nL 10.6875 0 \nz\n\" id=\"DejaVuSans-46\"/>\n        <path d=\"M 10.984375 1.515625 \nL 10.984375 10.5 \nQ 14.703125 8.734375 18.5 7.8125 \nQ 22.3125 6.890625 25.984375 6.890625 \nQ 35.75 6.890625 40.890625 13.453125 \nQ 46.046875 20.015625 46.78125 33.40625 \nQ 43.953125 29.203125 39.59375 26.953125 \nQ 35.25 24.703125 29.984375 24.703125 \nQ 19.046875 24.703125 12.671875 31.3125 \nQ 6.296875 37.9375 6.296875 49.421875 \nQ 6.296875 60.640625 12.9375 67.421875 \nQ 19.578125 74.21875 30.609375 74.21875 \nQ 43.265625 74.21875 49.921875 64.515625 \nQ 56.59375 54.828125 56.59375 36.375 \nQ 56.59375 19.140625 48.40625 8.859375 \nQ 40.234375 -1.421875 26.421875 -1.421875 \nQ 22.703125 -1.421875 18.890625 -0.6875 \nQ 15.09375 0.046875 10.984375 1.515625 \nz\nM 30.609375 32.421875 \nQ 37.25 32.421875 41.125 36.953125 \nQ 45.015625 41.5 45.015625 49.421875 \nQ 45.015625 57.28125 41.125 61.84375 \nQ 37.25 66.40625 30.609375 66.40625 \nQ 23.96875 66.40625 20.09375 61.84375 \nQ 16.21875 57.28125 16.21875 49.421875 \nQ 16.21875 41.5 20.09375 36.953125 \nQ 23.96875 32.421875 30.609375 32.421875 \nz\n\" id=\"DejaVuSans-57\"/>\n       </defs>\n       <use xlink:href=\"#DejaVuSans-48\"/>\n       <use x=\"63.623047\" xlink:href=\"#DejaVuSans-46\"/>\n       <use x=\"95.410156\" xlink:href=\"#DejaVuSans-57\"/>\n       <use x=\"159.033203\" xlink:href=\"#DejaVuSans-53\"/>\n      </g>\n     </g>\n    </g>\n    <g id=\"ytick_2\">\n     <g id=\"line2d_10\">\n      <g>\n       <use style=\"stroke:#000000;stroke-width:0.8;\" x=\"36.465625\" xlink:href=\"#m8d16636295\" y=\"94.352193\"/>\n      </g>\n     </g>\n     <g id=\"text_10\">\n      <!-- 1.00 -->\n      <g transform=\"translate(7.2 98.151412)scale(0.1 -0.1)\">\n       <use xlink:href=\"#DejaVuSans-49\"/>\n       <use x=\"63.623047\" xlink:href=\"#DejaVuSans-46\"/>\n       <use x=\"95.410156\" xlink:href=\"#DejaVuSans-48\"/>\n       <use x=\"159.033203\" xlink:href=\"#DejaVuSans-48\"/>\n      </g>\n     </g>\n    </g>\n    <g id=\"ytick_3\">\n     <g id=\"line2d_11\">\n      <g>\n       <use style=\"stroke:#000000;stroke-width:0.8;\" x=\"36.465625\" xlink:href=\"#m8d16636295\" y=\"55.389659\"/>\n      </g>\n     </g>\n     <g id=\"text_11\">\n      <!-- 1.05 -->\n      <g transform=\"translate(7.2 59.188878)scale(0.1 -0.1)\">\n       <use xlink:href=\"#DejaVuSans-49\"/>\n       <use x=\"63.623047\" xlink:href=\"#DejaVuSans-46\"/>\n       <use x=\"95.410156\" xlink:href=\"#DejaVuSans-48\"/>\n       <use x=\"159.033203\" xlink:href=\"#DejaVuSans-53\"/>\n      </g>\n     </g>\n    </g>\n   </g>\n   <g id=\"line2d_12\">\n    <path clip-path=\"url(#p9a93e13b46)\" d=\"M 66.901989 93.315789 \nL 675.629261 93.315789 \nL 675.629261 93.315789 \n\" style=\"fill:none;stroke:#1f77b4;stroke-linecap:square;stroke-width:1.5;\"/>\n   </g>\n   <g id=\"patch_3\">\n    <path d=\"M 36.465625 136.231579 \nL 36.465625 50.4 \n\" style=\"fill:none;stroke:#000000;stroke-linecap:square;stroke-linejoin:miter;stroke-width:0.8;\"/>\n   </g>\n   <g id=\"patch_4\">\n    <path d=\"M 706.065625 136.231579 \nL 706.065625 50.4 \n\" style=\"fill:none;stroke:#000000;stroke-linecap:square;stroke-linejoin:miter;stroke-width:0.8;\"/>\n   </g>\n   <g id=\"patch_5\">\n    <path d=\"M 36.465625 136.231579 \nL 706.065625 136.231579 \n\" style=\"fill:none;stroke:#000000;stroke-linecap:square;stroke-linejoin:miter;stroke-width:0.8;\"/>\n   </g>\n   <g id=\"patch_6\">\n    <path d=\"M 36.465625 50.4 \nL 706.065625 50.4 \n\" style=\"fill:none;stroke:#000000;stroke-linecap:square;stroke-linejoin:miter;stroke-width:0.8;\"/>\n   </g>\n   <g id=\"text_12\">\n    <!-- h -->\n    <g transform=\"translate(367.463125 44.4)scale(0.12 -0.12)\">\n     <defs>\n      <path d=\"M 54.890625 33.015625 \nL 54.890625 0 \nL 45.90625 0 \nL 45.90625 32.71875 \nQ 45.90625 40.484375 42.875 44.328125 \nQ 39.84375 48.1875 33.796875 48.1875 \nQ 26.515625 48.1875 22.3125 43.546875 \nQ 18.109375 38.921875 18.109375 30.90625 \nL 18.109375 0 \nL 9.078125 0 \nL 9.078125 75.984375 \nL 18.109375 75.984375 \nL 18.109375 46.1875 \nQ 21.34375 51.125 25.703125 53.5625 \nQ 30.078125 56 35.796875 56 \nQ 45.21875 56 50.046875 50.171875 \nQ 54.890625 44.34375 54.890625 33.015625 \nz\n\" id=\"DejaVuSans-104\"/>\n     </defs>\n     <use xlink:href=\"#DejaVuSans-104\"/>\n    </g>\n   </g>\n  </g>\n  <g id=\"axes_2\">\n   <g id=\"patch_7\">\n    <path d=\"M 36.465625 256.395789 \nL 706.065625 256.395789 \nL 706.065625 170.564211 \nL 36.465625 170.564211 \nz\n\" style=\"fill:#ffffff;\"/>\n   </g>\n   <g id=\"matplotlib.axis_3\">\n    <g id=\"xtick_9\">\n     <g id=\"line2d_13\">\n      <g>\n       <use style=\"stroke:#000000;stroke-width:0.8;\" x=\"66.901989\" xlink:href=\"#m0b5b7218b2\" y=\"256.395789\"/>\n      </g>\n     </g>\n     <g id=\"text_13\">\n      <!-- 0 -->\n      <g transform=\"translate(63.720739 270.994227)scale(0.1 -0.1)\">\n       <use xlink:href=\"#DejaVuSans-48\"/>\n      </g>\n     </g>\n    </g>\n    <g id=\"xtick_10\">\n     <g id=\"line2d_14\">\n      <g>\n       <use style=\"stroke:#000000;stroke-width:0.8;\" x=\"149.609499\" xlink:href=\"#m0b5b7218b2\" y=\"256.395789\"/>\n      </g>\n     </g>\n     <g id=\"text_14\">\n      <!-- 25 -->\n      <g transform=\"translate(143.246999 270.994227)scale(0.1 -0.1)\">\n       <use xlink:href=\"#DejaVuSans-50\"/>\n       <use x=\"63.623047\" xlink:href=\"#DejaVuSans-53\"/>\n      </g>\n     </g>\n    </g>\n    <g id=\"xtick_11\">\n     <g id=\"line2d_15\">\n      <g>\n       <use style=\"stroke:#000000;stroke-width:0.8;\" x=\"232.317008\" xlink:href=\"#m0b5b7218b2\" y=\"256.395789\"/>\n      </g>\n     </g>\n     <g id=\"text_15\">\n      <!-- 50 -->\n      <g transform=\"translate(225.954508 270.994227)scale(0.1 -0.1)\">\n       <use xlink:href=\"#DejaVuSans-53\"/>\n       <use x=\"63.623047\" xlink:href=\"#DejaVuSans-48\"/>\n      </g>\n     </g>\n    </g>\n    <g id=\"xtick_12\">\n     <g id=\"line2d_16\">\n      <g>\n       <use style=\"stroke:#000000;stroke-width:0.8;\" x=\"315.024518\" xlink:href=\"#m0b5b7218b2\" y=\"256.395789\"/>\n      </g>\n     </g>\n     <g id=\"text_16\">\n      <!-- 75 -->\n      <g transform=\"translate(308.662018 270.994227)scale(0.1 -0.1)\">\n       <use xlink:href=\"#DejaVuSans-55\"/>\n       <use x=\"63.623047\" xlink:href=\"#DejaVuSans-53\"/>\n      </g>\n     </g>\n    </g>\n    <g id=\"xtick_13\">\n     <g id=\"line2d_17\">\n      <g>\n       <use style=\"stroke:#000000;stroke-width:0.8;\" x=\"397.732028\" xlink:href=\"#m0b5b7218b2\" y=\"256.395789\"/>\n      </g>\n     </g>\n     <g id=\"text_17\">\n      <!-- 100 -->\n      <g transform=\"translate(388.188278 270.994227)scale(0.1 -0.1)\">\n       <use xlink:href=\"#DejaVuSans-49\"/>\n       <use x=\"63.623047\" xlink:href=\"#DejaVuSans-48\"/>\n       <use x=\"127.246094\" xlink:href=\"#DejaVuSans-48\"/>\n      </g>\n     </g>\n    </g>\n    <g id=\"xtick_14\">\n     <g id=\"line2d_18\">\n      <g>\n       <use style=\"stroke:#000000;stroke-width:0.8;\" x=\"480.439538\" xlink:href=\"#m0b5b7218b2\" y=\"256.395789\"/>\n      </g>\n     </g>\n     <g id=\"text_18\">\n      <!-- 125 -->\n      <g transform=\"translate(470.895788 270.994227)scale(0.1 -0.1)\">\n       <use xlink:href=\"#DejaVuSans-49\"/>\n       <use x=\"63.623047\" xlink:href=\"#DejaVuSans-50\"/>\n       <use x=\"127.246094\" xlink:href=\"#DejaVuSans-53\"/>\n      </g>\n     </g>\n    </g>\n    <g id=\"xtick_15\">\n     <g id=\"line2d_19\">\n      <g>\n       <use style=\"stroke:#000000;stroke-width:0.8;\" x=\"563.147048\" xlink:href=\"#m0b5b7218b2\" y=\"256.395789\"/>\n      </g>\n     </g>\n     <g id=\"text_19\">\n      <!-- 150 -->\n      <g transform=\"translate(553.603298 270.994227)scale(0.1 -0.1)\">\n       <use xlink:href=\"#DejaVuSans-49\"/>\n       <use x=\"63.623047\" xlink:href=\"#DejaVuSans-53\"/>\n       <use x=\"127.246094\" xlink:href=\"#DejaVuSans-48\"/>\n      </g>\n     </g>\n    </g>\n    <g id=\"xtick_16\">\n     <g id=\"line2d_20\">\n      <g>\n       <use style=\"stroke:#000000;stroke-width:0.8;\" x=\"645.854558\" xlink:href=\"#m0b5b7218b2\" y=\"256.395789\"/>\n      </g>\n     </g>\n     <g id=\"text_20\">\n      <!-- 175 -->\n      <g transform=\"translate(636.310808 270.994227)scale(0.1 -0.1)\">\n       <use xlink:href=\"#DejaVuSans-49\"/>\n       <use x=\"63.623047\" xlink:href=\"#DejaVuSans-55\"/>\n       <use x=\"127.246094\" xlink:href=\"#DejaVuSans-53\"/>\n      </g>\n     </g>\n    </g>\n   </g>\n   <g id=\"matplotlib.axis_4\">\n    <g id=\"ytick_4\">\n     <g id=\"line2d_21\">\n      <g>\n       <use style=\"stroke:#000000;stroke-width:0.8;\" x=\"36.465625\" xlink:href=\"#m8d16636295\" y=\"253.478937\"/>\n      </g>\n     </g>\n     <g id=\"text_21\">\n      <!-- 0.95 -->\n      <g transform=\"translate(7.2 257.278156)scale(0.1 -0.1)\">\n       <use xlink:href=\"#DejaVuSans-48\"/>\n       <use x=\"63.623047\" xlink:href=\"#DejaVuSans-46\"/>\n       <use x=\"95.410156\" xlink:href=\"#DejaVuSans-57\"/>\n       <use x=\"159.033203\" xlink:href=\"#DejaVuSans-53\"/>\n      </g>\n     </g>\n    </g>\n    <g id=\"ytick_5\">\n     <g id=\"line2d_22\">\n      <g>\n       <use style=\"stroke:#000000;stroke-width:0.8;\" x=\"36.465625\" xlink:href=\"#m8d16636295\" y=\"214.516403\"/>\n      </g>\n     </g>\n     <g id=\"text_22\">\n      <!-- 1.00 -->\n      <g transform=\"translate(7.2 218.315622)scale(0.1 -0.1)\">\n       <use xlink:href=\"#DejaVuSans-49\"/>\n       <use x=\"63.623047\" xlink:href=\"#DejaVuSans-46\"/>\n       <use x=\"95.410156\" xlink:href=\"#DejaVuSans-48\"/>\n       <use x=\"159.033203\" xlink:href=\"#DejaVuSans-48\"/>\n      </g>\n     </g>\n    </g>\n    <g id=\"ytick_6\">\n     <g id=\"line2d_23\">\n      <g>\n       <use style=\"stroke:#000000;stroke-width:0.8;\" x=\"36.465625\" xlink:href=\"#m8d16636295\" y=\"175.55387\"/>\n      </g>\n     </g>\n     <g id=\"text_23\">\n      <!-- 1.05 -->\n      <g transform=\"translate(7.2 179.353088)scale(0.1 -0.1)\">\n       <use xlink:href=\"#DejaVuSans-49\"/>\n       <use x=\"63.623047\" xlink:href=\"#DejaVuSans-46\"/>\n       <use x=\"95.410156\" xlink:href=\"#DejaVuSans-48\"/>\n       <use x=\"159.033203\" xlink:href=\"#DejaVuSans-53\"/>\n      </g>\n     </g>\n    </g>\n   </g>\n   <g id=\"line2d_24\">\n    <path clip-path=\"url(#pab6a3bfc05)\" d=\"M 66.901989 213.48 \nL 675.629261 213.48 \nL 675.629261 213.48 \n\" style=\"fill:none;stroke:#1f77b4;stroke-linecap:square;stroke-width:1.5;\"/>\n   </g>\n   <g id=\"patch_8\">\n    <path d=\"M 36.465625 256.395789 \nL 36.465625 170.564211 \n\" style=\"fill:none;stroke:#000000;stroke-linecap:square;stroke-linejoin:miter;stroke-width:0.8;\"/>\n   </g>\n   <g id=\"patch_9\">\n    <path d=\"M 706.065625 256.395789 \nL 706.065625 170.564211 \n\" style=\"fill:none;stroke:#000000;stroke-linecap:square;stroke-linejoin:miter;stroke-width:0.8;\"/>\n   </g>\n   <g id=\"patch_10\">\n    <path d=\"M 36.465625 256.395789 \nL 706.065625 256.395789 \n\" style=\"fill:none;stroke:#000000;stroke-linecap:square;stroke-linejoin:miter;stroke-width:0.8;\"/>\n   </g>\n   <g id=\"patch_11\">\n    <path d=\"M 36.465625 170.564211 \nL 706.065625 170.564211 \n\" style=\"fill:none;stroke:#000000;stroke-linecap:square;stroke-linejoin:miter;stroke-width:0.8;\"/>\n   </g>\n   <g id=\"text_24\">\n    <!-- k -->\n    <g transform=\"translate(367.79125 164.564211)scale(0.12 -0.12)\">\n     <defs>\n      <path d=\"M 9.078125 75.984375 \nL 18.109375 75.984375 \nL 18.109375 31.109375 \nL 44.921875 54.6875 \nL 56.390625 54.6875 \nL 27.390625 29.109375 \nL 57.625 0 \nL 45.90625 0 \nL 18.109375 26.703125 \nL 18.109375 0 \nL 9.078125 0 \nz\n\" id=\"DejaVuSans-107\"/>\n     </defs>\n     <use xlink:href=\"#DejaVuSans-107\"/>\n    </g>\n   </g>\n  </g>\n  <g id=\"axes_3\">\n   <g id=\"patch_12\">\n    <path d=\"M 36.465625 376.56 \nL 706.065625 376.56 \nL 706.065625 290.728421 \nL 36.465625 290.728421 \nz\n\" style=\"fill:#ffffff;\"/>\n   </g>\n   <g id=\"matplotlib.axis_5\">\n    <g id=\"xtick_17\">\n     <g id=\"line2d_25\">\n      <g>\n       <use style=\"stroke:#000000;stroke-width:0.8;\" x=\"66.901989\" xlink:href=\"#m0b5b7218b2\" y=\"376.56\"/>\n      </g>\n     </g>\n     <g id=\"text_25\">\n      <!-- 0 -->\n      <g transform=\"translate(63.720739 391.158437)scale(0.1 -0.1)\">\n       <use xlink:href=\"#DejaVuSans-48\"/>\n      </g>\n     </g>\n    </g>\n    <g id=\"xtick_18\">\n     <g id=\"line2d_26\">\n      <g>\n       <use style=\"stroke:#000000;stroke-width:0.8;\" x=\"149.609499\" xlink:href=\"#m0b5b7218b2\" y=\"376.56\"/>\n      </g>\n     </g>\n     <g id=\"text_26\">\n      <!-- 25 -->\n      <g transform=\"translate(143.246999 391.158437)scale(0.1 -0.1)\">\n       <use xlink:href=\"#DejaVuSans-50\"/>\n       <use x=\"63.623047\" xlink:href=\"#DejaVuSans-53\"/>\n      </g>\n     </g>\n    </g>\n    <g id=\"xtick_19\">\n     <g id=\"line2d_27\">\n      <g>\n       <use style=\"stroke:#000000;stroke-width:0.8;\" x=\"232.317008\" xlink:href=\"#m0b5b7218b2\" y=\"376.56\"/>\n      </g>\n     </g>\n     <g id=\"text_27\">\n      <!-- 50 -->\n      <g transform=\"translate(225.954508 391.158437)scale(0.1 -0.1)\">\n       <use xlink:href=\"#DejaVuSans-53\"/>\n       <use x=\"63.623047\" xlink:href=\"#DejaVuSans-48\"/>\n      </g>\n     </g>\n    </g>\n    <g id=\"xtick_20\">\n     <g id=\"line2d_28\">\n      <g>\n       <use style=\"stroke:#000000;stroke-width:0.8;\" x=\"315.024518\" xlink:href=\"#m0b5b7218b2\" y=\"376.56\"/>\n      </g>\n     </g>\n     <g id=\"text_28\">\n      <!-- 75 -->\n      <g transform=\"translate(308.662018 391.158437)scale(0.1 -0.1)\">\n       <use xlink:href=\"#DejaVuSans-55\"/>\n       <use x=\"63.623047\" xlink:href=\"#DejaVuSans-53\"/>\n      </g>\n     </g>\n    </g>\n    <g id=\"xtick_21\">\n     <g id=\"line2d_29\">\n      <g>\n       <use style=\"stroke:#000000;stroke-width:0.8;\" x=\"397.732028\" xlink:href=\"#m0b5b7218b2\" y=\"376.56\"/>\n      </g>\n     </g>\n     <g id=\"text_29\">\n      <!-- 100 -->\n      <g transform=\"translate(388.188278 391.158437)scale(0.1 -0.1)\">\n       <use xlink:href=\"#DejaVuSans-49\"/>\n       <use x=\"63.623047\" xlink:href=\"#DejaVuSans-48\"/>\n       <use x=\"127.246094\" xlink:href=\"#DejaVuSans-48\"/>\n      </g>\n     </g>\n    </g>\n    <g id=\"xtick_22\">\n     <g id=\"line2d_30\">\n      <g>\n       <use style=\"stroke:#000000;stroke-width:0.8;\" x=\"480.439538\" xlink:href=\"#m0b5b7218b2\" y=\"376.56\"/>\n      </g>\n     </g>\n     <g id=\"text_30\">\n      <!-- 125 -->\n      <g transform=\"translate(470.895788 391.158437)scale(0.1 -0.1)\">\n       <use xlink:href=\"#DejaVuSans-49\"/>\n       <use x=\"63.623047\" xlink:href=\"#DejaVuSans-50\"/>\n       <use x=\"127.246094\" xlink:href=\"#DejaVuSans-53\"/>\n      </g>\n     </g>\n    </g>\n    <g id=\"xtick_23\">\n     <g id=\"line2d_31\">\n      <g>\n       <use style=\"stroke:#000000;stroke-width:0.8;\" x=\"563.147048\" xlink:href=\"#m0b5b7218b2\" y=\"376.56\"/>\n      </g>\n     </g>\n     <g id=\"text_31\">\n      <!-- 150 -->\n      <g transform=\"translate(553.603298 391.158437)scale(0.1 -0.1)\">\n       <use xlink:href=\"#DejaVuSans-49\"/>\n       <use x=\"63.623047\" xlink:href=\"#DejaVuSans-53\"/>\n       <use x=\"127.246094\" xlink:href=\"#DejaVuSans-48\"/>\n      </g>\n     </g>\n    </g>\n    <g id=\"xtick_24\">\n     <g id=\"line2d_32\">\n      <g>\n       <use style=\"stroke:#000000;stroke-width:0.8;\" x=\"645.854558\" xlink:href=\"#m0b5b7218b2\" y=\"376.56\"/>\n      </g>\n     </g>\n     <g id=\"text_32\">\n      <!-- 175 -->\n      <g transform=\"translate(636.310808 391.158437)scale(0.1 -0.1)\">\n       <use xlink:href=\"#DejaVuSans-49\"/>\n       <use x=\"63.623047\" xlink:href=\"#DejaVuSans-55\"/>\n       <use x=\"127.246094\" xlink:href=\"#DejaVuSans-53\"/>\n      </g>\n     </g>\n    </g>\n   </g>\n   <g id=\"matplotlib.axis_6\">\n    <g id=\"ytick_7\">\n     <g id=\"line2d_33\">\n      <g>\n       <use style=\"stroke:#000000;stroke-width:0.8;\" x=\"36.465625\" xlink:href=\"#m8d16636295\" y=\"351.455111\"/>\n      </g>\n     </g>\n     <g id=\"text_33\">\n      <!-- 2.9 -->\n      <g transform=\"translate(13.5625 355.25433)scale(0.1 -0.1)\">\n       <use xlink:href=\"#DejaVuSans-50\"/>\n       <use x=\"63.623047\" xlink:href=\"#DejaVuSans-46\"/>\n       <use x=\"95.410156\" xlink:href=\"#DejaVuSans-57\"/>\n      </g>\n     </g>\n    </g>\n    <g id=\"ytick_8\">\n     <g id=\"line2d_34\">\n      <g>\n       <use style=\"stroke:#000000;stroke-width:0.8;\" x=\"36.465625\" xlink:href=\"#m8d16636295\" y=\"309.048205\"/>\n      </g>\n     </g>\n     <g id=\"text_34\">\n      <!-- 3.0 -->\n      <g transform=\"translate(13.5625 312.847423)scale(0.1 -0.1)\">\n       <defs>\n        <path d=\"M 40.578125 39.3125 \nQ 47.65625 37.796875 51.625 33 \nQ 55.609375 28.21875 55.609375 21.1875 \nQ 55.609375 10.40625 48.1875 4.484375 \nQ 40.765625 -1.421875 27.09375 -1.421875 \nQ 22.515625 -1.421875 17.65625 -0.515625 \nQ 12.796875 0.390625 7.625 2.203125 \nL 7.625 11.71875 \nQ 11.71875 9.328125 16.59375 8.109375 \nQ 21.484375 6.890625 26.8125 6.890625 \nQ 36.078125 6.890625 40.9375 10.546875 \nQ 45.796875 14.203125 45.796875 21.1875 \nQ 45.796875 27.640625 41.28125 31.265625 \nQ 36.765625 34.90625 28.71875 34.90625 \nL 20.21875 34.90625 \nL 20.21875 43.015625 \nL 29.109375 43.015625 \nQ 36.375 43.015625 40.234375 45.921875 \nQ 44.09375 48.828125 44.09375 54.296875 \nQ 44.09375 59.90625 40.109375 62.90625 \nQ 36.140625 65.921875 28.71875 65.921875 \nQ 24.65625 65.921875 20.015625 65.03125 \nQ 15.375 64.15625 9.8125 62.3125 \nL 9.8125 71.09375 \nQ 15.4375 72.65625 20.34375 73.4375 \nQ 25.25 74.21875 29.59375 74.21875 \nQ 40.828125 74.21875 47.359375 69.109375 \nQ 53.90625 64.015625 53.90625 55.328125 \nQ 53.90625 49.265625 50.4375 45.09375 \nQ 46.96875 40.921875 40.578125 39.3125 \nz\n\" id=\"DejaVuSans-51\"/>\n       </defs>\n       <use xlink:href=\"#DejaVuSans-51\"/>\n       <use x=\"63.623047\" xlink:href=\"#DejaVuSans-46\"/>\n       <use x=\"95.410156\" xlink:href=\"#DejaVuSans-48\"/>\n      </g>\n     </g>\n    </g>\n   </g>\n   <g id=\"line2d_35\">\n    <path clip-path=\"url(#pd438513d37)\" d=\"M 66.901989 372.658565 \nL 675.629261 294.629856 \nL 675.629261 294.629856 \n\" style=\"fill:none;stroke:#1f77b4;stroke-linecap:square;stroke-width:1.5;\"/>\n   </g>\n   <g id=\"patch_13\">\n    <path d=\"M 36.465625 376.56 \nL 36.465625 290.728421 \n\" style=\"fill:none;stroke:#000000;stroke-linecap:square;stroke-linejoin:miter;stroke-width:0.8;\"/>\n   </g>\n   <g id=\"patch_14\">\n    <path d=\"M 706.065625 376.56 \nL 706.065625 290.728421 \n\" style=\"fill:none;stroke:#000000;stroke-linecap:square;stroke-linejoin:miter;stroke-width:0.8;\"/>\n   </g>\n   <g id=\"patch_15\">\n    <path d=\"M 36.465625 376.56 \nL 706.065625 376.56 \n\" style=\"fill:none;stroke:#000000;stroke-linecap:square;stroke-linejoin:miter;stroke-width:0.8;\"/>\n   </g>\n   <g id=\"patch_16\">\n    <path d=\"M 36.465625 290.728421 \nL 706.065625 290.728421 \n\" style=\"fill:none;stroke:#000000;stroke-linecap:square;stroke-linejoin:miter;stroke-width:0.8;\"/>\n   </g>\n   <g id=\"text_35\">\n    <!-- l -->\n    <g transform=\"translate(369.59875 284.728421)scale(0.12 -0.12)\">\n     <defs>\n      <path d=\"M 9.421875 75.984375 \nL 18.40625 75.984375 \nL 18.40625 0 \nL 9.421875 0 \nz\n\" id=\"DejaVuSans-108\"/>\n     </defs>\n     <use xlink:href=\"#DejaVuSans-108\"/>\n    </g>\n   </g>\n  </g>\n  <g id=\"text_36\">\n   <!-- Desired HKL trajectory -->\n   <g transform=\"translate(292.730312 16.318125)scale(0.12 -0.12)\">\n    <defs>\n     <path d=\"M 19.671875 64.796875 \nL 19.671875 8.109375 \nL 31.59375 8.109375 \nQ 46.6875 8.109375 53.6875 14.9375 \nQ 60.6875 21.78125 60.6875 36.53125 \nQ 60.6875 51.171875 53.6875 57.984375 \nQ 46.6875 64.796875 31.59375 64.796875 \nz\nM 9.8125 72.90625 \nL 30.078125 72.90625 \nQ 51.265625 72.90625 61.171875 64.09375 \nQ 71.09375 55.28125 71.09375 36.53125 \nQ 71.09375 17.671875 61.125 8.828125 \nQ 51.171875 0 30.078125 0 \nL 9.8125 0 \nz\n\" id=\"DejaVuSans-68\"/>\n     <path d=\"M 56.203125 29.59375 \nL 56.203125 25.203125 \nL 14.890625 25.203125 \nQ 15.484375 15.921875 20.484375 11.0625 \nQ 25.484375 6.203125 34.421875 6.203125 \nQ 39.59375 6.203125 44.453125 7.46875 \nQ 49.3125 8.734375 54.109375 11.28125 \nL 54.109375 2.78125 \nQ 49.265625 0.734375 44.1875 -0.34375 \nQ 39.109375 -1.421875 33.890625 -1.421875 \nQ 20.796875 -1.421875 13.15625 6.1875 \nQ 5.515625 13.8125 5.515625 26.8125 \nQ 5.515625 40.234375 12.765625 48.109375 \nQ 20.015625 56 32.328125 56 \nQ 43.359375 56 49.78125 48.890625 \nQ 56.203125 41.796875 56.203125 29.59375 \nz\nM 47.21875 32.234375 \nQ 47.125 39.59375 43.09375 43.984375 \nQ 39.0625 48.390625 32.421875 48.390625 \nQ 24.90625 48.390625 20.390625 44.140625 \nQ 15.875 39.890625 15.1875 32.171875 \nz\n\" id=\"DejaVuSans-101\"/>\n     <path d=\"M 44.28125 53.078125 \nL 44.28125 44.578125 \nQ 40.484375 46.53125 36.375 47.5 \nQ 32.28125 48.484375 27.875 48.484375 \nQ 21.1875 48.484375 17.84375 46.4375 \nQ 14.5 44.390625 14.5 40.28125 \nQ 14.5 37.15625 16.890625 35.375 \nQ 19.28125 33.59375 26.515625 31.984375 \nL 29.59375 31.296875 \nQ 39.15625 29.25 43.1875 25.515625 \nQ 47.21875 21.78125 47.21875 15.09375 \nQ 47.21875 7.46875 41.1875 3.015625 \nQ 35.15625 -1.421875 24.609375 -1.421875 \nQ 20.21875 -1.421875 15.453125 -0.5625 \nQ 10.6875 0.296875 5.421875 2 \nL 5.421875 11.28125 \nQ 10.40625 8.6875 15.234375 7.390625 \nQ 20.0625 6.109375 24.8125 6.109375 \nQ 31.15625 6.109375 34.5625 8.28125 \nQ 37.984375 10.453125 37.984375 14.40625 \nQ 37.984375 18.0625 35.515625 20.015625 \nQ 33.0625 21.96875 24.703125 23.78125 \nL 21.578125 24.515625 \nQ 13.234375 26.265625 9.515625 29.90625 \nQ 5.8125 33.546875 5.8125 39.890625 \nQ 5.8125 47.609375 11.28125 51.796875 \nQ 16.75 56 26.8125 56 \nQ 31.78125 56 36.171875 55.265625 \nQ 40.578125 54.546875 44.28125 53.078125 \nz\n\" id=\"DejaVuSans-115\"/>\n     <path d=\"M 9.421875 54.6875 \nL 18.40625 54.6875 \nL 18.40625 0 \nL 9.421875 0 \nz\nM 9.421875 75.984375 \nL 18.40625 75.984375 \nL 18.40625 64.59375 \nL 9.421875 64.59375 \nz\n\" id=\"DejaVuSans-105\"/>\n     <path d=\"M 41.109375 46.296875 \nQ 39.59375 47.171875 37.8125 47.578125 \nQ 36.03125 48 33.890625 48 \nQ 26.265625 48 22.1875 43.046875 \nQ 18.109375 38.09375 18.109375 28.8125 \nL 18.109375 0 \nL 9.078125 0 \nL 9.078125 54.6875 \nL 18.109375 54.6875 \nL 18.109375 46.1875 \nQ 20.953125 51.171875 25.484375 53.578125 \nQ 30.03125 56 36.53125 56 \nQ 37.453125 56 38.578125 55.875 \nQ 39.703125 55.765625 41.0625 55.515625 \nz\n\" id=\"DejaVuSans-114\"/>\n     <path d=\"M 45.40625 46.390625 \nL 45.40625 75.984375 \nL 54.390625 75.984375 \nL 54.390625 0 \nL 45.40625 0 \nL 45.40625 8.203125 \nQ 42.578125 3.328125 38.25 0.953125 \nQ 33.9375 -1.421875 27.875 -1.421875 \nQ 17.96875 -1.421875 11.734375 6.484375 \nQ 5.515625 14.40625 5.515625 27.296875 \nQ 5.515625 40.1875 11.734375 48.09375 \nQ 17.96875 56 27.875 56 \nQ 33.9375 56 38.25 53.625 \nQ 42.578125 51.265625 45.40625 46.390625 \nz\nM 14.796875 27.296875 \nQ 14.796875 17.390625 18.875 11.75 \nQ 22.953125 6.109375 30.078125 6.109375 \nQ 37.203125 6.109375 41.296875 11.75 \nQ 45.40625 17.390625 45.40625 27.296875 \nQ 45.40625 37.203125 41.296875 42.84375 \nQ 37.203125 48.484375 30.078125 48.484375 \nQ 22.953125 48.484375 18.875 42.84375 \nQ 14.796875 37.203125 14.796875 27.296875 \nz\n\" id=\"DejaVuSans-100\"/>\n     <path id=\"DejaVuSans-32\"/>\n     <path d=\"M 9.8125 72.90625 \nL 19.671875 72.90625 \nL 19.671875 43.015625 \nL 55.515625 43.015625 \nL 55.515625 72.90625 \nL 65.375 72.90625 \nL 65.375 0 \nL 55.515625 0 \nL 55.515625 34.71875 \nL 19.671875 34.71875 \nL 19.671875 0 \nL 9.8125 0 \nz\n\" id=\"DejaVuSans-72\"/>\n     <path d=\"M 9.8125 72.90625 \nL 19.671875 72.90625 \nL 19.671875 42.09375 \nL 52.390625 72.90625 \nL 65.09375 72.90625 \nL 28.90625 38.921875 \nL 67.671875 0 \nL 54.6875 0 \nL 19.671875 35.109375 \nL 19.671875 0 \nL 9.8125 0 \nz\n\" id=\"DejaVuSans-75\"/>\n     <path d=\"M 9.8125 72.90625 \nL 19.671875 72.90625 \nL 19.671875 8.296875 \nL 55.171875 8.296875 \nL 55.171875 0 \nL 9.8125 0 \nz\n\" id=\"DejaVuSans-76\"/>\n     <path d=\"M 18.3125 70.21875 \nL 18.3125 54.6875 \nL 36.8125 54.6875 \nL 36.8125 47.703125 \nL 18.3125 47.703125 \nL 18.3125 18.015625 \nQ 18.3125 11.328125 20.140625 9.421875 \nQ 21.96875 7.515625 27.59375 7.515625 \nL 36.8125 7.515625 \nL 36.8125 0 \nL 27.59375 0 \nQ 17.1875 0 13.234375 3.875 \nQ 9.28125 7.765625 9.28125 18.015625 \nL 9.28125 47.703125 \nL 2.6875 47.703125 \nL 2.6875 54.6875 \nL 9.28125 54.6875 \nL 9.28125 70.21875 \nz\n\" id=\"DejaVuSans-116\"/>\n     <path d=\"M 34.28125 27.484375 \nQ 23.390625 27.484375 19.1875 25 \nQ 14.984375 22.515625 14.984375 16.5 \nQ 14.984375 11.71875 18.140625 8.90625 \nQ 21.296875 6.109375 26.703125 6.109375 \nQ 34.1875 6.109375 38.703125 11.40625 \nQ 43.21875 16.703125 43.21875 25.484375 \nL 43.21875 27.484375 \nz\nM 52.203125 31.203125 \nL 52.203125 0 \nL 43.21875 0 \nL 43.21875 8.296875 \nQ 40.140625 3.328125 35.546875 0.953125 \nQ 30.953125 -1.421875 24.3125 -1.421875 \nQ 15.921875 -1.421875 10.953125 3.296875 \nQ 6 8.015625 6 15.921875 \nQ 6 25.140625 12.171875 29.828125 \nQ 18.359375 34.515625 30.609375 34.515625 \nL 43.21875 34.515625 \nL 43.21875 35.40625 \nQ 43.21875 41.609375 39.140625 45 \nQ 35.0625 48.390625 27.6875 48.390625 \nQ 23 48.390625 18.546875 47.265625 \nQ 14.109375 46.140625 10.015625 43.890625 \nL 10.015625 52.203125 \nQ 14.9375 54.109375 19.578125 55.046875 \nQ 24.21875 56 28.609375 56 \nQ 40.484375 56 46.34375 49.84375 \nQ 52.203125 43.703125 52.203125 31.203125 \nz\n\" id=\"DejaVuSans-97\"/>\n     <path d=\"M 9.421875 54.6875 \nL 18.40625 54.6875 \nL 18.40625 -0.984375 \nQ 18.40625 -11.421875 14.421875 -16.109375 \nQ 10.453125 -20.796875 1.609375 -20.796875 \nL -1.8125 -20.796875 \nL -1.8125 -13.1875 \nL 0.59375 -13.1875 \nQ 5.71875 -13.1875 7.5625 -10.8125 \nQ 9.421875 -8.453125 9.421875 -0.984375 \nz\nM 9.421875 75.984375 \nL 18.40625 75.984375 \nL 18.40625 64.59375 \nL 9.421875 64.59375 \nz\n\" id=\"DejaVuSans-106\"/>\n     <path d=\"M 48.78125 52.59375 \nL 48.78125 44.1875 \nQ 44.96875 46.296875 41.140625 47.34375 \nQ 37.3125 48.390625 33.40625 48.390625 \nQ 24.65625 48.390625 19.8125 42.84375 \nQ 14.984375 37.3125 14.984375 27.296875 \nQ 14.984375 17.28125 19.8125 11.734375 \nQ 24.65625 6.203125 33.40625 6.203125 \nQ 37.3125 6.203125 41.140625 7.25 \nQ 44.96875 8.296875 48.78125 10.40625 \nL 48.78125 2.09375 \nQ 45.015625 0.34375 40.984375 -0.53125 \nQ 36.96875 -1.421875 32.421875 -1.421875 \nQ 20.0625 -1.421875 12.78125 6.34375 \nQ 5.515625 14.109375 5.515625 27.296875 \nQ 5.515625 40.671875 12.859375 48.328125 \nQ 20.21875 56 33.015625 56 \nQ 37.15625 56 41.109375 55.140625 \nQ 45.0625 54.296875 48.78125 52.59375 \nz\n\" id=\"DejaVuSans-99\"/>\n     <path d=\"M 30.609375 48.390625 \nQ 23.390625 48.390625 19.1875 42.75 \nQ 14.984375 37.109375 14.984375 27.296875 \nQ 14.984375 17.484375 19.15625 11.84375 \nQ 23.34375 6.203125 30.609375 6.203125 \nQ 37.796875 6.203125 41.984375 11.859375 \nQ 46.1875 17.53125 46.1875 27.296875 \nQ 46.1875 37.015625 41.984375 42.703125 \nQ 37.796875 48.390625 30.609375 48.390625 \nz\nM 30.609375 56 \nQ 42.328125 56 49.015625 48.375 \nQ 55.71875 40.765625 55.71875 27.296875 \nQ 55.71875 13.875 49.015625 6.21875 \nQ 42.328125 -1.421875 30.609375 -1.421875 \nQ 18.84375 -1.421875 12.171875 6.21875 \nQ 5.515625 13.875 5.515625 27.296875 \nQ 5.515625 40.765625 12.171875 48.375 \nQ 18.84375 56 30.609375 56 \nz\n\" id=\"DejaVuSans-111\"/>\n     <path d=\"M 32.171875 -5.078125 \nQ 28.375 -14.84375 24.75 -17.8125 \nQ 21.140625 -20.796875 15.09375 -20.796875 \nL 7.90625 -20.796875 \nL 7.90625 -13.28125 \nL 13.1875 -13.28125 \nQ 16.890625 -13.28125 18.9375 -11.515625 \nQ 21 -9.765625 23.484375 -3.21875 \nL 25.09375 0.875 \nL 2.984375 54.6875 \nL 12.5 54.6875 \nL 29.59375 11.921875 \nL 46.6875 54.6875 \nL 56.203125 54.6875 \nz\n\" id=\"DejaVuSans-121\"/>\n    </defs>\n    <use xlink:href=\"#DejaVuSans-68\"/>\n    <use x=\"77.001953\" xlink:href=\"#DejaVuSans-101\"/>\n    <use x=\"138.525391\" xlink:href=\"#DejaVuSans-115\"/>\n    <use x=\"190.625\" xlink:href=\"#DejaVuSans-105\"/>\n    <use x=\"218.408203\" xlink:href=\"#DejaVuSans-114\"/>\n    <use x=\"257.271484\" xlink:href=\"#DejaVuSans-101\"/>\n    <use x=\"318.794922\" xlink:href=\"#DejaVuSans-100\"/>\n    <use x=\"382.271484\" xlink:href=\"#DejaVuSans-32\"/>\n    <use x=\"414.058594\" xlink:href=\"#DejaVuSans-72\"/>\n    <use x=\"489.253906\" xlink:href=\"#DejaVuSans-75\"/>\n    <use x=\"554.830078\" xlink:href=\"#DejaVuSans-76\"/>\n    <use x=\"610.542969\" xlink:href=\"#DejaVuSans-32\"/>\n    <use x=\"642.330078\" xlink:href=\"#DejaVuSans-116\"/>\n    <use x=\"681.539062\" xlink:href=\"#DejaVuSans-114\"/>\n    <use x=\"722.652344\" xlink:href=\"#DejaVuSans-97\"/>\n    <use x=\"783.931641\" xlink:href=\"#DejaVuSans-106\"/>\n    <use x=\"811.714844\" xlink:href=\"#DejaVuSans-101\"/>\n    <use x=\"873.238281\" xlink:href=\"#DejaVuSans-99\"/>\n    <use x=\"928.21875\" xlink:href=\"#DejaVuSans-116\"/>\n    <use x=\"967.427734\" xlink:href=\"#DejaVuSans-111\"/>\n    <use x=\"1028.609375\" xlink:href=\"#DejaVuSans-114\"/>\n    <use x=\"1069.722656\" xlink:href=\"#DejaVuSans-121\"/>\n   </g>\n  </g>\n </g>\n <defs>\n  <clipPath id=\"p9a93e13b46\">\n   <rect height=\"85.831579\" width=\"669.6\" x=\"36.465625\" y=\"50.4\"/>\n  </clipPath>\n  <clipPath id=\"pab6a3bfc05\">\n   <rect height=\"85.831579\" width=\"669.6\" x=\"36.465625\" y=\"170.564211\"/>\n  </clipPath>\n  <clipPath id=\"pd438513d37\">\n   <rect height=\"85.831579\" width=\"669.6\" x=\"36.465625\" y=\"290.728421\"/>\n  </clipPath>\n </defs>\n</svg>\n",
      "image/png": "[encoded data removed]"
     },
     "metadata": {
      "needs_background": "light"
     }
    }
   ],
   "source": [
    "%matplotlib inline\n",
    "\n",
    "import numpy as np\n",
    "import matplotlib.pyplot as plt\n",
    "\n",
    "# plot the h, k, & l vs. point number\n",
    "fig, axes = plt.subplots(3, 1, figsize=(12, 6))\n",
    "fig.subplots_adjust(hspace=0.4, wspace=0.2)\n",
    "\n",
    "plt.suptitle('Desired HKL trajectory')\n",
    "axes[0].plot(specscan.data[\"H\"])\n",
    "axes[0].set_title(\"h\")\n",
    "axes[1].plot(specscan.data[\"K\"])\n",
    "axes[1].set_title(\"k\")\n",
    "axes[2].plot(specscan.data[\"L\"])\n",
    "axes[2].set_title(\"l\")\n",
    "plt.show()"
   ]
  },
  {
   "source": [
    "## Setup the *E4CV* diffractometer in *hklpy*"
   ],
   "cell_type": "markdown",
   "metadata": {}
  },
  {
   "cell_type": "code",
   "execution_count": 4,
   "metadata": {},
   "outputs": [],
   "source": [
    "import gi\n",
    "gi.require_version('Hkl', '5.0')\n",
    "from hkl.diffract import E4CV\n",
    "from hkl.util import Lattice\n",
    "\n",
    "from ophyd import (PseudoSingle, SoftPositioner)\n",
    "from ophyd import Component as Cpt"
   ]
  },
  {
   "cell_type": "code",
   "execution_count": 5,
   "metadata": {},
   "outputs": [],
   "source": [
    "class Diffractometer(E4CV):\n",
    "    h = Cpt(PseudoSingle, '')\n",
    "    k = Cpt(PseudoSingle, '')\n",
    "    l = Cpt(PseudoSingle, '')\n",
    "\n",
    "    # use the SPEC axis names here\n",
    "    omega = Cpt(SoftPositioner)\n",
    "    chi = Cpt(SoftPositioner)\n",
    "    phi = Cpt(SoftPositioner)\n",
    "    tth = Cpt(SoftPositioner)\n",
    "\n",
    "    def __init__(self, *args, **kwargs):\n",
    "        super().__init__(*args, **kwargs)\n",
    "\n",
    "        for p in self.real_positioners:\n",
    "            p._set_position(0)  # give each a starting position"
   ]
  },
  {
   "cell_type": "code",
   "execution_count": 6,
   "metadata": {},
   "outputs": [],
   "source": [
    "fourc = Diffractometer(\"\", name=\"fourc\")"
   ]
  },
  {
   "cell_type": "code",
   "execution_count": 7,
   "metadata": {},
   "outputs": [
    {
     "output_type": "execute_result",
     "data": {
      "text/plain": [
       "HklSample(name='LNO_LAO', lattice=LatticeTuple(a=3.781726143, b=3.791444574, c=3.79890313, alpha=90.2546203, beta=90.01815424, gamma=89.89967858), ux=Parameter(name='None (internally: ux)', limits=(min=-180.0, max=180.0), value=0.0, fit=True, inverted=False, units='Degree'), uy=Parameter(name='None (internally: uy)', limits=(min=-180.0, max=180.0), value=0.0, fit=True, inverted=False, units='Degree'), uz=Parameter(name='None (internally: uz)', limits=(min=-180.0, max=180.0), value=0.0, fit=True, inverted=False, units='Degree'), U=array([[1., 0., 0.],\n",
       "       [0., 1., 0.],\n",
       "       [0., 0., 1.]]), UB=array([[ 1.66146225e+00, -2.89938471e-03,  5.11196668e-04],\n",
       "       [ 0.00000000e+00,  1.65721725e+00,  7.34922202e-03],\n",
       "       [ 0.00000000e+00,  0.00000000e+00,  1.65394723e+00]]), reflections=[])"
      ]
     },
     "metadata": {},
     "execution_count": 7
    }
   ],
   "source": [
    "# add the sample to the calculation engine\n",
    "fourc.calc.new_sample(\n",
    "    specfile.specFile,\n",
    "    lattice=Lattice(\n",
    "        a=spec_d.lattice.a, \n",
    "        b=spec_d.lattice.b, \n",
    "        c=spec_d.lattice.c,\n",
    "        alpha=spec_d.lattice.alpha, \n",
    "        beta=spec_d.lattice.beta, \n",
    "        gamma=spec_d.lattice.gamma)\n",
    "    )"
   ]
  },
  {
   "source": [
    "## Use the UB orientation matrix from *SPEC*"
   ],
   "cell_type": "markdown",
   "metadata": {}
  },
  {
   "cell_type": "code",
   "execution_count": 8,
   "metadata": {},
   "outputs": [
    {
     "output_type": "stream",
     "name": "stdout",
     "text": [
      "[[-1.65871244e+00  9.82002413e-02 -3.89705578e-04]\n",
      " [-9.55499031e-02 -1.65427863e+00  2.42844486e-03]\n",
      " [ 2.62981891e-04  9.81574682e-03  1.65396181e+00]]\n",
      "[[-9.55499053e-02 -1.65427875e+00  2.42825603e-03]\n",
      " [ 2.63161907e-04  9.81566638e-03  1.65396189e+00]\n",
      " [-1.65871254e+00  9.82003048e-02 -3.89644168e-04]]\n",
      "(002) : PosCalcE4CV(omega=23.915206114844626, chi=89.91480547663566, phi=99.11611601380724, tth=47.83041222968925)\n",
      "(113) : PosCalcE4CV(omega=42.33129428600627, chi=115.20291094237979, phi=48.133061440101486, tth=84.66258857201254)\n"
     ]
    }
   ],
   "source": [
    "# get the UB matrix from the SPEC data\n",
    "# SPEC's UB first row moved (via numpy slicing) to last row for hklpy\n",
    "fourc.UB.put(spec_d.UB[[1,2,0], :])\n",
    "print(spec_d.UB)\n",
    "print(fourc.UB.get())\n",
    "\n",
    "# calculate angles with hklpy using the SPEC UB matrix\n",
    "fourc.engine.mode = \"bissector\"\n",
    "fourc.calc[\"phi\"].limits = (-50, 100)\n",
    "fourc.calc[\"tth\"].limits = (-2, 180)\n",
    "print(\"(002) :\", fourc.forward((0, 0, 2)))\n",
    "print(\"(113) :\", fourc.forward((1, 1, 3)))"
   ]
  },
  {
   "cell_type": "code",
   "execution_count": 9,
   "metadata": {},
   "outputs": [
    {
     "output_type": "stream",
     "name": "stdout",
     "text": [
      "======= ===== ========= =========\n",
      "(hkl)   motor E4CV      SPEC     \n",
      "======= ===== ========= =========\n",
      "(0 0 2) tth   47.83041  38.09875 \n",
      "(0 0 2) omega 23.91521  19.13350 \n",
      "(0 0 2) chi   89.91481  90.01350 \n",
      "(0 0 2) phi   99.11612  0.00000  \n",
      "(1 1 3) tth   84.66259  65.64400 \n",
      "(1 1 3) omega 42.33129  32.82125 \n",
      "(1 1 3) chi   115.20291 115.23625\n",
      "(1 1 3) phi   48.13306  48.13150 \n",
      "======= ===== ========= =========\n",
      "\n"
     ]
    }
   ],
   "source": [
    "# Compare these angles with those from SPEC\n",
    "tbl = pyRestTable.Table()\n",
    "tbl.labels = \"(hkl) motor E4CV SPEC\".split()\n",
    "for r in spec_d.reflections:\n",
    "    sol = fourc.forward((r.h, r.k, r.l))\n",
    "    nm = f\"{r.h:.0f} {r.k:.0f} {r.l:.0f}\"\n",
    "    for em, sm in AXIS_NAME_MAP.items():\n",
    "        row = [f\"({nm})\", em]\n",
    "        row.append(f\"{getattr(sol, em):.5f}\")\n",
    "        row.append(f\"{r.angles[sm]:.5f}\")\n",
    "        tbl.addRow(row)\n",
    "print(tbl)"
   ]
  },
  {
   "source": [
    "## Setup the UB orientation matrix using *hklpy*"
   ],
   "cell_type": "markdown",
   "metadata": {}
  },
  {
   "cell_type": "code",
   "execution_count": 10,
   "metadata": {},
   "outputs": [
    {
     "output_type": "stream",
     "name": "stdout",
     "text": [
      "========= ===================================================\n",
      "term      value                                              \n",
      "========= ===================================================\n",
      "SPEC [UB] [[-1.65871244e+00  9.82002413e-02 -3.89705578e-04] \n",
      "           [-9.55499031e-02 -1.65427863e+00  2.42844486e-03] \n",
      "           [ 2.62981891e-04  9.81574682e-03  1.65396181e+00]]\n",
      "E4CV [UB] [[-9.55498634e-02 -1.65427875e+00  2.42844498e-03] \n",
      "           [ 2.63111155e-04  9.81585901e-03  1.65396189e+00] \n",
      "           [-1.65871254e+00  9.82002627e-02 -3.89705597e-04]]\n",
      "========= ===================================================\n",
      "\n"
     ]
    }
   ],
   "source": [
    "fourc.calc.wavelength = 1.239424258 # Angstrom\n",
    "\n",
    "refs = [\n",
    "    fourc.calc.sample.add_reflection(\n",
    "        r.h, r.k, r.l, \n",
    "        position=fourc.calc.Position(\n",
    "            tth=r.angles[\"tth\"],\n",
    "            omega=r.angles[\"th\"],\n",
    "            chi=r.angles[\"chi\"],\n",
    "            phi=r.angles[\"phi\"],\n",
    "        )\n",
    "    )\n",
    "    for r in spec_d.reflections\n",
    "]\n",
    "\n",
    "fourc.calc.sample.compute_UB(*refs)\n",
    "\n",
    "tbl = pyRestTable.Table()\n",
    "tbl.labels = \"term value\".split()\n",
    "tbl.addRow((\"SPEC [UB]\", spec_d.UB))\n",
    "tbl.addRow((\"E4CV [UB]\", fourc.UB.get()))\n",
    "print(tbl)"
   ]
  },
  {
   "cell_type": "code",
   "execution_count": 11,
   "metadata": {
    "tags": []
   },
   "outputs": [
    {
     "output_type": "stream",
     "name": "stdout",
     "text": [
      "==================== =========================================================================\n",
      "term                 value                                                                    \n",
      "==================== =========================================================================\n",
      "energy, keV          10.00337045202483                                                        \n",
      "wavelength, angstrom 1.239424258                                                              \n",
      "position             DiffractometerPseudoPos(h=-0.0, k=0.0, l=0.0)                            \n",
      "sample name          LNO_LAO                                                                  \n",
      "[U]                  [[-5.75094968e-02 -9.98327391e-01  5.92267768e-03]                       \n",
      "                      [ 1.58361191e-04  5.92337392e-03  9.99982444e-01]                       \n",
      "                      [-9.98344947e-01  5.75094251e-02 -1.82553939e-04]]                      \n",
      "[UB]                 [[-9.55498634e-02 -1.65427875e+00  2.42844498e-03]                       \n",
      "                      [ 2.63111155e-04  9.81585901e-03  1.65396189e+00]                       \n",
      "                      [-1.65871254e+00  9.82002627e-02 -3.89705597e-04]]                      \n",
      "lattice              [ 3.78172593  3.7914443   3.79890295 90.25465556 90.01815877 89.89967654]\n",
      "==================== =========================================================================\n",
      "\n",
      "sample\tHklSample(name='LNO_LAO', lattice=LatticeTuple(a=3.781725931569308, b=3.79144430103082, c=3.798902949497184, alpha=90.25465555509926, beta=90.01815876717824, gamma=89.89967653973522), ux=Parameter(name='None (internally: ux)', limits=(min=-180.0, max=180.0), value=-90.01045975373877, fit=True, inverted=False, units='Degree'), uy=Parameter(name='None (internally: uy)', limits=(min=-180.0, max=180.0), value=0.3393464183946019, fit=True, inverted=False, units='Degree'), uz=Parameter(name='None (internally: uz)', limits=(min=-180.0, max=180.0), value=93.2969283549115, fit=True, inverted=False, units='Degree'), U=array([[-5.75094968e-02, -9.98327391e-01,  5.92267768e-03],\n",
      "       [ 1.58361191e-04,  5.92337392e-03,  9.99982444e-01],\n",
      "       [-9.98344947e-01,  5.75094251e-02, -1.82553939e-04]]), UB=array([[-9.55498634e-02, -1.65427875e+00,  2.42844498e-03],\n",
      "       [ 2.63111155e-04,  9.81585901e-03,  1.65396189e+00],\n",
      "       [-1.65871254e+00,  9.82002627e-02, -3.89705597e-04]]), reflections=[(h=0.0, k=0.0, l=2.0), (h=1.0, k=1.0, l=3.0)], reflection_measured_angles=array([[0.        , 0.44139322],\n",
      "       [0.44139322, 0.        ]]), reflection_theoretical_angles=array([[0.        , 0.44081129],\n",
      "       [0.44081129, 0.        ]]))\n"
     ]
    }
   ],
   "source": [
    "tbl = pyRestTable.Table()\n",
    "tbl.labels = \"term value\".split()\n",
    "tbl.addRow((\"energy, keV\", fourc.calc.energy))\n",
    "tbl.addRow((\"wavelength, angstrom\", fourc.calc.wavelength))\n",
    "tbl.addRow((\"position\", fourc.position))\n",
    "tbl.addRow((\"sample name\", fourc.sample_name.get()))\n",
    "tbl.addRow((\"[U]\", fourc.U.get()))\n",
    "tbl.addRow((\"[UB]\", fourc.UB.get()))\n",
    "tbl.addRow((\"lattice\", fourc.lattice.get()))\n",
    "print(tbl)\n",
    "\n",
    "print(f\"sample\\t{fourc.calc.sample}\")"
   ]
  },
  {
   "cell_type": "code",
   "execution_count": 12,
   "metadata": {},
   "outputs": [
    {
     "output_type": "stream",
     "name": "stdout",
     "text": [
      "['bissector', 'constant_omega', 'constant_chi', 'constant_phi', 'double_diffraction', 'psi_constant']\n",
      "(002) ? DiffractometerPseudoPos(h=1.2799054331930202e-16, k=-1.9503320886750783e-16, l=2.0007425592719152)\n",
      "(113) ? DiffractometerPseudoPos(h=1.0013281312668674, k=1.0013281312668667, l=2.999452603405415)\n",
      "(002) : PosCalcE4CV(omega=19.042032579737324, chi=89.91479867668836, phi=99.11683157195066, tth=38.08406515947465)\n",
      "(113) : PosCalcE4CV(omega=32.81850192181539, chi=115.20290748988367, phi=48.133047341841994, tth=65.63700384363078)\n"
     ]
    }
   ],
   "source": [
    "print(fourc.engine.modes)\n",
    "print(\"(002) ?\", fourc.inverse((19.1335, 90.0135, 0, 38.09875,)))\n",
    "print(\"(113) ?\", fourc.inverse((32.82125, 115.23625, 48.1315, 65.644,)))\n",
    "fourc.engine.mode = \"bissector\"\n",
    "fourc.calc[\"tth\"].limits = (-2, 180)\n",
    "print(\"(002) :\", fourc.forward((0, 0, 2)))\n",
    "print(\"(113) :\", fourc.forward((1, 1, 3)))"
   ]
  },
  {
   "cell_type": "code",
   "execution_count": 13,
   "metadata": {},
   "outputs": [
    {
     "output_type": "stream",
     "name": "stdout",
     "text": [
      "======= ===== ========= =========\n",
      "(hkl)   motor E4CV      SPEC     \n",
      "======= ===== ========= =========\n",
      "(0 0 2) omega 19.04203  19.13350 \n",
      "(0 0 2) chi   89.91480  90.01350 \n",
      "(0 0 2) phi   99.11683  0.00000  \n",
      "(0 0 2) tth   38.08407  38.09875 \n",
      "(1 1 3) omega 32.81850  32.82125 \n",
      "(1 1 3) chi   115.20291 115.23625\n",
      "(1 1 3) phi   48.13305  48.13150 \n",
      "(1 1 3) tth   65.63700  65.64400 \n",
      "======= ===== ========= =========\n",
      "\n"
     ]
    }
   ],
   "source": [
    "# Compare these angles with those from SPEC\n",
    "xref = dict(\n",
    "    # E4CV  SPEC\n",
    "    omega=\"th\",\n",
    "    chi=\"chi\",\n",
    "    phi=\"phi\",\n",
    "    tth=\"tth\",\n",
    ")\n",
    "tbl = pyRestTable.Table()\n",
    "tbl.labels = \"(hkl) motor E4CV SPEC\".split()\n",
    "for r in spec_d.reflections:\n",
    "    sol = fourc.forward((r.h, r.k, r.l))\n",
    "    nm = f\"{r.h:.0f} {r.k:.0f} {r.l:.0f}\"\n",
    "    for em, sm in xref.items():\n",
    "        row = [f\"({nm})\", em]\n",
    "        row.append(f\"{getattr(sol, em):.5f}\")\n",
    "        row.append(f\"{r.angles[sm]:.5f}\")\n",
    "        tbl.addRow(row)\n",
    "print(tbl)"
   ]
  }
 ]
}