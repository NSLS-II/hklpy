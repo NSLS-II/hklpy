{
 "cells": [
  {
   "cell_type": "markdown",
   "id": "requested-airport",
   "metadata": {},
   "source": [
    "# Diffractometer \"Parameters\"\n",
    "\n",
    "Some of the diffractometer _modes_ use additional parameters.  The [E4CV](https://people.debian.org/~picca/hkl/hkl.html#org7ef08ba) geometry, for example, has a `double_diffraction` mode which requires a reference $hkl_2$ vector.  The vector is set and accessed by a Python command that calls directly the corresponding *libhkl* function:\n",
    "\n",
    "action | `E4CV` method\n",
    ":--- | :---\n",
    "read names | `e4cv.calc.engine._engine.parameters_names_get(units_code)`\n",
    "read values | `e4cv.calc.engine._engine.parameters_values_get(units_code)`\n",
    "write names | Names are pre-defined by *libhkl*.\n",
    "write values | `e4cv.calc.engine._engine.parameters_values_set(values, units_code)`"
   ]
  },
  {
   "cell_type": "code",
   "execution_count": 1,
   "id": "subtle-boost",
   "metadata": {},
   "outputs": [],
   "source": [
    "import gi\n",
    "gi.require_version('Hkl', '5.0')\n",
    "from hkl.calc import A_KEV"
   ]
  },
  {
   "cell_type": "markdown",
   "id": "complicated-minister",
   "metadata": {},
   "source": [
    "## `E4CV`, `hkl`, `double_diffraction`\n",
    "\n",
    "term | value\n",
    ":--- | :---\n",
    "geometry | `E4CV`\n",
    "engine | `hkl`\n",
    "mode | `double_diffraction`"
   ]
  },
  {
   "cell_type": "code",
   "execution_count": 2,
   "id": "gothic-constant",
   "metadata": {
    "tags": []
   },
   "outputs": [
    {
     "data": {
      "text/plain": [
       "array([[-9.55499011e-02, -1.65427863e+00,  2.42844485e-03],\n",
       "       [ 2.62981975e-04,  9.81483906e-03,  1.65396181e+00],\n",
       "       [-1.65871244e+00,  9.82002396e-02, -3.89705577e-04]])"
      ]
     },
     "execution_count": 2,
     "metadata": {},
     "output_type": "execute_result"
    }
   ],
   "source": [
    "from hkl.geometries import SimulatedE4CV\n",
    "e4cv = SimulatedE4CV(\"\", name=\"e4cv\")\n",
    "\n",
    "# order:  a b c  alpha beta gamma\n",
    "lattice = (3.781726143, 3.791444574, 3.79890313, 90.2546203, 90.01815424, 89.89967858)\n",
    "e4cv.calc.new_sample(\"LNO_LAO\", lattice=lattice)\n",
    "\n",
    "wavelength = 1.239424258\n",
    "e4cv.energy.put(A_KEV / wavelength)\n",
    "\n",
    "# order:   omega    chi      phi  tth\n",
    "p_002 = (19.1335, 90.0135, 0.0, 38.09875)\n",
    "r_002 = e4cv.calc.sample.add_reflection(0, 0, 2, p_002)\n",
    "\n",
    "p_113 = (32.82125, 115.23625, 48.1315, 65.644)\n",
    "r_113 = e4cv.calc.sample.add_reflection(1, 1, 3, p_113)\n",
    "\n",
    "e4cv.calc.sample.compute_UB(r_002, r_113)"
   ]
  },
  {
   "cell_type": "code",
   "execution_count": 3,
   "id": "northern-conviction",
   "metadata": {},
   "outputs": [
    {
     "name": "stdout",
     "output_type": "stream",
     "text": [
      "e4cv.calc.engine.mode = 'bissector'\n",
      "e4cv.calc.engine.mode = 'double_diffraction'\n"
     ]
    }
   ],
   "source": [
    "print(f\"{e4cv.calc.engine.mode = }\")\n",
    "e4cv.calc.engine.mode = \"double_diffraction\"\n",
    "print(f\"{e4cv.calc.engine.mode = }\")"
   ]
  },
  {
   "cell_type": "code",
   "execution_count": null,
   "id": "designed-williams",
   "metadata": {},
   "outputs": [],
   "source": []
  },
  {
   "cell_type": "markdown",
   "id": "inappropriate-feature",
   "metadata": {},
   "source": [
    "Need to set parameters `h2`, `k2`, `l2`.  How?"
   ]
  },
  {
   "cell_type": "markdown",
   "id": "recreational-defeat",
   "metadata": {},
   "source": [
    "First, there is a shorcut *property*.  It simplifies a more complicated to the lower level support."
   ]
  },
  {
   "cell_type": "code",
   "execution_count": 4,
   "id": "black-symphony",
   "metadata": {},
   "outputs": [
    {
     "data": {
      "text/plain": [
       "['h2', 'k2', 'l2']"
      ]
     },
     "execution_count": 4,
     "metadata": {},
     "output_type": "execute_result"
    }
   ],
   "source": [
    "e4cv.calc.parameters"
   ]
  },
  {
   "cell_type": "markdown",
   "id": "laughing-roads",
   "metadata": {},
   "source": [
    "The lower-level call looks like this:"
   ]
  },
  {
   "cell_type": "code",
   "execution_count": 5,
   "id": "conservative-queensland",
   "metadata": {},
   "outputs": [
    {
     "data": {
      "text/plain": [
       "['h2', 'k2', 'l2']"
      ]
     },
     "execution_count": 5,
     "metadata": {},
     "output_type": "execute_result"
    }
   ],
   "source": [
    "e4cv.calc.engine._engine.parameters_names_get()"
   ]
  },
  {
   "cell_type": "markdown",
   "id": "opposed-surprise",
   "metadata": {},
   "source": [
    "Read the parameters.  The value is 0 or 1, pick 1 for user units. (*libhkl*: `Hkl.UnitEnum.USER` == 1)"
   ]
  },
  {
   "cell_type": "code",
   "execution_count": 6,
   "id": "usual-isolation",
   "metadata": {},
   "outputs": [
    {
     "data": {
      "text/plain": [
       "[1.0, 1.0, 1.0]"
      ]
     },
     "execution_count": 6,
     "metadata": {},
     "output_type": "execute_result"
    }
   ],
   "source": [
    "e4cv.calc.engine._engine.parameters_values_get(1)"
   ]
  },
  {
   "cell_type": "markdown",
   "id": "arranged-surfing",
   "metadata": {},
   "source": [
    "Set the parameters.  First are the values, then the 0 or 1."
   ]
  },
  {
   "cell_type": "code",
   "execution_count": 7,
   "id": "executed-sperm",
   "metadata": {},
   "outputs": [
    {
     "data": {
      "text/plain": [
       "1"
      ]
     },
     "execution_count": 7,
     "metadata": {},
     "output_type": "execute_result"
    }
   ],
   "source": [
    "# no shortcut to this one.  Yet.\n",
    "e4cv.calc.engine._engine.parameters_values_set((2,2,0), 1)"
   ]
  }
 ],
 "metadata": {
  "kernelspec": {
   "display_name": "bluesky_2021_1",
   "language": "python",
   "name": "bluesky_2021_1"
  },
  "language_info": {
   "codemirror_mode": {
    "name": "ipython",
    "version": 3
   },
   "file_extension": ".py",
   "mimetype": "text/x-python",
   "name": "python",
   "nbconvert_exporter": "python",
   "pygments_lexer": "ipython3",
   "version": "3.8.8"
  }
 },
 "nbformat": 4,
 "nbformat_minor": 5
}
