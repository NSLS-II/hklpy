{
 "metadata": {
  "language_info": {
   "codemirror_mode": {
    "name": "ipython",
    "version": 3
   },
   "file_extension": ".py",
   "mimetype": "text/x-python",
   "name": "python",
   "nbconvert_exporter": "python",
   "pygments_lexer": "ipython3",
   "version": "3.8.2-final"
  },
  "orig_nbformat": 2,
  "kernelspec": {
   "name": "python3",
   "display_name": "Python 3"
  }
 },
 "nbformat": 4,
 "nbformat_minor": 2,
 "cells": [
  {
   "source": [
    "# E4CV:fourc 4-circle example\n",
    "\n",
    "Compare with data acquired using SPEC\n",
    "\n",
    "In _hkl_ *E4CV* geometry (https://people.debian.org/~picca/hkl/hkl.html#org7ef08ba):\n",
    "\n",
    "<img src=\"3S+1D.png\" alt=\"E4CV geometry\" width=\"30%\"/>\n",
    "\n",
    "* xrays incident on the $\\vec{x}$ direction (1, 0, 0)\n",
    "\n",
    "axis  | moves    | rotation about axis\n",
    "---   | :---     | :---\n",
    "omega | sample   | $-\\vec{y}$ `[0 -1 0]`\n",
    "chi   | sample   | $\\vec{x}$ `[1 0 0]`\n",
    "phi   | sample   | $-\\vec{y}$ `[0 -1 0]`\n",
    "tth   | detector | $-\\vec{y}$ `[0 -1 0]`"
   ],
   "cell_type": "markdown",
   "metadata": {}
  },
  {
   "cell_type": "code",
   "execution_count": 1,
   "metadata": {},
   "outputs": [],
   "source": [
    "%matplotlib inline\n",
    "\n",
    "import pandas as pd\n",
    "import numpy as np\n",
    "import matplotlib.pyplot as plt\n",
    "\n",
    "import gi\n",
    "gi.require_version('Hkl', '5.0')\n",
    "from hkl.diffract import E4CV\n",
    "from hkl.util import Lattice\n",
    "\n",
    "from ophyd import (PseudoSingle, SoftPositioner)\n",
    "from ophyd import Component as Cpt"
   ]
  },
  {
   "source": [
    "In SPEC *fourc* geometry (https://certif.com/spec_help/fourc.html):\n",
    "\n",
    "name    | mnemonic   | description\n",
    "-----   | -----      | -----\n",
    "2theta  | tth        | Detector arm rotation\n",
    "Omega   | om         | Rotates sample circles\n",
    "Chi     | chi        | Sample tilt\n",
    "Phi     | phi        | Sample rotation\n",
    "\n",
    "Same names and meanings between E4CV and SPEC but default order is different."
   ],
   "cell_type": "markdown",
   "metadata": {}
  },
  {
   "cell_type": "code",
   "execution_count": 2,
   "metadata": {},
   "outputs": [
    {
     "output_type": "stream",
     "name": "stdout",
     "text": [
      "SPEC scanCmd: hklscan  1.00133 1.00133  1.00133 1.00133  2.85 3.05  200 -400000\n"
     ]
    }
   ],
   "source": [
    "from spec2nexus.spec import SpecDataFile\n",
    "\n",
    "specfile = SpecDataFile('hkl_data/LNO_LAO_s14.dat')\n",
    "specscan = specfile.getScan(14)\n",
    "print(\"SPEC scanCmd:\", specscan.scanCmd)\n"
   ]
  },
  {
   "cell_type": "code",
   "execution_count": 3,
   "metadata": {},
   "outputs": [],
   "source": [
    "class Diffractometer(E4CV):\n",
    "    h = Cpt(PseudoSingle, '')\n",
    "    k = Cpt(PseudoSingle, '')\n",
    "    l = Cpt(PseudoSingle, '')\n",
    "\n",
    "    # use the SPEC axis names here\n",
    "    omega = Cpt(SoftPositioner)\n",
    "    chi = Cpt(SoftPositioner)\n",
    "    phi = Cpt(SoftPositioner)\n",
    "    tth = Cpt(SoftPositioner)\n",
    "\n",
    "    def __init__(self, *args, **kwargs):\n",
    "        super().__init__(*args, **kwargs)\n",
    "\n",
    "        for p in self.real_positioners:\n",
    "            p._set_position(0)  # give each a starting position"
   ]
  },
  {
   "cell_type": "code",
   "execution_count": 4,
   "metadata": {},
   "outputs": [],
   "source": [
    "fourc = Diffractometer(\"\", name=\"fourc\")"
   ]
  },
  {
   "source": [
    "term | value\n",
    ":--- | :---\n",
    "sample | LNO_LAO\n",
    "crystal |  3.781726143 3.791444574 3.79890313   90.2546203 90.01815424 89.89967858\n",
    "geometry | fourc\n",
    "energy | 9.99906 keV\n",
    "lambda | 1.239424258 Angstrom\n",
    "r1 | (0 0 2) 38.09875 19.1335 90.0135 0\n",
    "r2 | (1 1 3) 65.644 32.82125 115.23625 48.1315\n",
    "Q | (1.001328179 1.001328179 2.999452893)\n",
    "UB[0] | -1.658712442 0.09820024135 -0.000389705578\n",
    "UB[1] | -0.09554990312 -1.654278629 0.00242844486\n",
    "UB[2] | 0.0002629818914 0.009815746824 1.653961812"
   ],
   "cell_type": "markdown",
   "metadata": {}
  },
  {
   "cell_type": "code",
   "execution_count": 5,
   "metadata": {},
   "outputs": [
    {
     "output_type": "execute_result",
     "data": {
      "text/plain": [
       "HklSample(name='LNO_LAO', lattice=LatticeTuple(a=3.781726143, b=3.791444574, c=3.79890313, alpha=90.2546203, beta=90.01815424, gamma=89.89967858), ux=Parameter(name='None (internally: ux)', limits=(min=-180.0, max=180.0), value=0.0, fit=True, inverted=False, units='Degree'), uy=Parameter(name='None (internally: uy)', limits=(min=-180.0, max=180.0), value=0.0, fit=True, inverted=False, units='Degree'), uz=Parameter(name='None (internally: uz)', limits=(min=-180.0, max=180.0), value=0.0, fit=True, inverted=False, units='Degree'), U=array([[1., 0., 0.],\n",
       "       [0., 1., 0.],\n",
       "       [0., 0., 1.]]), UB=array([[ 1.66146225e+00, -2.89938471e-03,  5.11196668e-04],\n",
       "       [ 0.00000000e+00,  1.65721725e+00,  7.34922202e-03],\n",
       "       [ 0.00000000e+00,  0.00000000e+00,  1.65394723e+00]]), reflections=[])"
      ]
     },
     "metadata": {},
     "execution_count": 5
    }
   ],
   "source": [
    "# add the sample to the calculation engine\n",
    "fourc.calc.new_sample(\n",
    "    \"LNO_LAO\",\n",
    "    lattice=Lattice(\n",
    "        a=3.781726143, b=3.791444574, c=3.79890313,\n",
    "        alpha=90.2546203, beta=90.01815424, gamma=89.89967858)\n",
    "    )"
   ]
  },
  {
   "cell_type": "code",
   "execution_count": 6,
   "metadata": {},
   "outputs": [
    {
     "output_type": "stream",
     "name": "stdout",
     "text": [
      "SPEC UB [[-1.65871244e+00  9.82002413e-02 -3.89705578e-04]\n",
      " [-9.55499031e-02 -1.65427863e+00  2.42844486e-03]\n",
      " [ 2.62981891e-04  9.81574682e-03  1.65396181e+00]]\n",
      "[[-9.55499011e-02 -1.65427863e+00  2.42844485e-03]\n",
      " [ 2.62981975e-04  9.81483906e-03  1.65396181e+00]\n",
      " [-1.65871244e+00  9.82002396e-02 -3.89705577e-04]]\n"
     ]
    }
   ],
   "source": [
    "fourc.calc.wavelength = 1.239424258 # Angstrom\n",
    "\n",
    "r1 = fourc.calc.sample.add_reflection(\n",
    "    0, 0, 2, \n",
    "    position=fourc.calc.Position(\n",
    "        tth=38.09875,\n",
    "        omega=19.1335,\n",
    "        chi=90.0135, \n",
    "        phi=0,\n",
    "        )\n",
    "    )\n",
    "r2 = fourc.calc.sample.add_reflection(\n",
    "    1, 1, 3, \n",
    "    position=fourc.calc.Position(\n",
    "        tth=65.644,\n",
    "        omega=32.82125,\n",
    "        chi=115.23625, \n",
    "        phi=48.1315,\n",
    "        )\n",
    "    )\n",
    "fourc.calc.sample.compute_UB(r1, r2)\n",
    "print(\"SPEC UB\", np.array([[-1.658712442, 0.09820024135, -0.000389705578],\n",
    "    [-0.09554990312, -1.654278629, 0.00242844486],\n",
    "    [0.0002629818914, 0.009815746824, 1.653961812]])\n",
    ")\n",
    "print(fourc.UB.get())"
   ]
  },
  {
   "cell_type": "code",
   "execution_count": 7,
   "metadata": {},
   "outputs": [
    {
     "output_type": "stream",
     "name": "stdout",
     "text": [
      "calc.energy is 10.00337045202483\n",
      "calc.wavelength is 1.239424258\n",
      "sample is HklSample(name='LNO_LAO', lattice=LatticeTuple(a=3.781726143, b=3.791444574, c=3.79890313, alpha=90.2546203, beta=90.01815424, gamma=89.89967858), ux=Parameter(name='None (internally: ux)', limits=(min=-180.0, max=180.0), value=-90.01046218238135, fit=True, inverted=False, units='Degree'), uy=Parameter(name='None (internally: uy)', limits=(min=-180.0, max=180.0), value=0.3393109739136075, fit=True, inverted=False, units='Degree'), uz=Parameter(name='None (internally: uz)', limits=(min=-180.0, max=180.0), value=93.29692982869366, fit=True, inverted=False, units='Degree'), U=array([[-5.75095227e-02, -9.98327393e-01,  5.92205907e-03],\n",
      "       [ 1.58283449e-04,  5.92275876e-03,  9.99982448e-01],\n",
      "       [-9.98344945e-01,  5.75094506e-02, -1.82596327e-04]]), UB=array([[-9.55499011e-02, -1.65427863e+00,  2.42844485e-03],\n",
      "       [ 2.62981975e-04,  9.81483906e-03,  1.65396181e+00],\n",
      "       [-1.65871244e+00,  9.82002396e-02, -3.89705577e-04]]), reflections=[(h=0.0, k=0.0, l=2.0), (h=1.0, k=1.0, l=3.0)], reflection_measured_angles=array([[0.        , 0.44139322],\n",
      "       [0.44139322, 0.        ]]), reflection_theoretical_angles=array([[0.        , 0.44081138],\n",
      "       [0.44081138, 0.        ]]))\n",
      "position is DiffractometerPseudoPos(h=-0.0, k=0.0, l=0.0)\n",
      "sample name is LNO_LAO\n",
      "U matrix is [[-5.75095227e-02 -9.98327393e-01  5.92205907e-03]\n",
      " [ 1.58283449e-04  5.92275876e-03  9.99982448e-01]\n",
      " [-9.98344945e-01  5.75094506e-02 -1.82596327e-04]] {'fourc_U': {'source': 'PY:fourc.calc.sample.U', 'dtype': 'array', 'shape': [3, 3]}}\n",
      "UB matrix is [[-9.55499011e-02 -1.65427863e+00  2.42844485e-03]\n",
      " [ 2.62981975e-04  9.81483906e-03  1.65396181e+00]\n",
      " [-1.65871244e+00  9.82002396e-02 -3.89705577e-04]] {'fourc_UB': {'source': 'PY:fourc.calc.sample.UB', 'dtype': 'array', 'shape': [3, 3]}}\n",
      "reflections: [[0. 0. 2.]\n",
      " [1. 1. 3.]] {'fourc_reflections': {'source': 'PY:fourc.calc.sample.reflections', 'dtype': 'array', 'shape': [2, 3]}}\n",
      "ux is -90.01046218238135 {'fourc_ux': {'source': 'PY:fourc.calc.sample.ux.value', 'dtype': 'number', 'shape': []}}\n",
      "uy is 0.3393109739136075 {'fourc_uy': {'source': 'PY:fourc.calc.sample.uy.value', 'dtype': 'number', 'shape': []}}\n",
      "uz is 93.29692982869366 {'fourc_uz': {'source': 'PY:fourc.calc.sample.uz.value', 'dtype': 'number', 'shape': []}}\n",
      "lattice is [ 3.78172614  3.79144457  3.79890313 90.2546203  90.01815424 89.89967858] {'fourc_lattice': {'source': 'PY:fourc.calc.sample.lattice', 'dtype': 'array', 'shape': [6]}}\n",
      "OrderedDict([('fourc_h', {'value': -0.0, 'timestamp': 1607237342.2747052}), ('fourc_h_setpoint', {'value': -0.0, 'timestamp': 1607237342.2747457}), ('fourc_k', {'value': 0.0, 'timestamp': 1607237342.2755654}), ('fourc_k_setpoint', {'value': 0.0, 'timestamp': 1607237342.275642}), ('fourc_l', {'value': 0.0, 'timestamp': 1607237342.275793}), ('fourc_l_setpoint', {'value': 0.0, 'timestamp': 1607237342.2758276}), ('fourc_omega', {'value': 0, 'timestamp': 1607237346.8151433}), ('fourc_chi', {'value': 0, 'timestamp': 1607237346.8151493}), ('fourc_phi', {'value': 0, 'timestamp': 1607237346.815154}), ('fourc_tth', {'value': 0, 'timestamp': 1607237346.8151596})])\n"
     ]
    }
   ],
   "source": [
    "print('calc.energy is', fourc.calc.energy)\n",
    "print('calc.wavelength is', fourc.calc.wavelength)\n",
    "print('sample is', fourc.calc.sample)\n",
    "print('position is', fourc.position)\n",
    "\n",
    "print('sample name is', fourc.sample_name.get())\n",
    "print('U matrix is', fourc.U.get(), fourc.U.describe())\n",
    "print('UB matrix is', fourc.UB.get(), fourc.UB.describe())\n",
    "print('reflections:',\n",
    "        fourc.reflections.get(),\n",
    "        fourc.reflections.describe())\n",
    "print('ux is', fourc.ux.get(), fourc.ux.describe())\n",
    "print('uy is', fourc.uy.get(), fourc.uy.describe())\n",
    "print('uz is', fourc.uz.get(), fourc.uz.describe())\n",
    "print('lattice is', fourc.lattice.get(), fourc.lattice.describe())\n",
    "print(fourc.read())"
   ]
  },
  {
   "cell_type": "code",
   "execution_count": 7,
   "metadata": {},
   "outputs": [
    {
     "output_type": "stream",
     "name": "stdout",
     "text": [
      "['bissector', 'constant_omega', 'constant_chi', 'constant_phi', 'double_diffraction', 'psi_constant']\n",
      "(002) ? DiffractometerPseudoPos(h=1.401801438592437e-16, k=0.0, l=2.0007426598535667)\n",
      "(113) ? DiffractometerPseudoPos(h=1.0013281774868752, k=1.0013281774868745, l=2.99945344960595)\n",
      "(002) : PosCalcE4CV(omega=19.042031585577714, chi=90.08520132331137, phi=-80.88316842824068, tth=38.08406317115543)\n",
      "(113) : PosCalcE4CV(omega=32.818493106453474, chi=115.20291269085513, phi=48.13304737491596, tth=65.63698621290695)\n"
     ]
    }
   ],
   "source": [
    "print(fourc.engine.modes)\n",
    "print(\"(002) ?\", fourc.inverse((19.1335, 90.0135, 0, 38.09875,)))\n",
    "print(\"(113) ?\", fourc.inverse((32.82125, 115.23625, 48.1315, 65.644,)))\n",
    "fourc.engine.mode = \"bissector\"\n",
    "fourc.calc[\"tth\"].limits = (-2, 180)\n",
    "print(\"(002) :\", fourc.forward((0, 0, 2)))\n",
    "print(\"(113) :\", fourc.forward((1, 1, 3)))"
   ]
  }
 ]
}