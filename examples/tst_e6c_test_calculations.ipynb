{
 "cells": [
  {
   "cell_type": "markdown",
   "metadata": {},
   "source": [
    "# Non-exhaustive test of E6C calculations\n",
    "\n",
    "Verify *hklpy* (from its interface to the *hkl* library) computations\n",
    "of orientation, U, UB, and rotation directions.\n",
    "\n",
    "With the aid of Yong Chu's mental math.\n",
    "\n",
    "[TL;DR](https://www.merriam-webster.com/dictionary/TL%3BDR) appears to function as documented and as expected\n",
    "\n",
    "----\n",
    "\n",
    "Note:  This example is available as a\n",
    "[Jupyter notebook](https://jupyter.org/) from the *hklpy* source\n",
    "code website: https://github.com/bluesky/hklpy/tree/main/examples\n",
    "\n",
    "### Import the Python libraries needed"
   ]
  },
  {
   "cell_type": "code",
   "execution_count": 1,
   "metadata": {
    "collapsed": true
   },
   "outputs": [],
   "source": [
    "import pandas as pd\n",
    "import numpy as np\n",
    "import matplotlib.pyplot as plt\n",
    "\n",
    "import gi\n",
    "gi.require_version('Hkl', '5.0')\n",
    "from hkl.calc import CalcE6C\n",
    "from hkl.util import Lattice"
   ]
  },
  {
   "cell_type": "markdown",
   "metadata": {},
   "source": [
    "### Initialize the calculation engine"
   ]
  },
  {
   "cell_type": "code",
   "execution_count": 2,
   "metadata": {
    "collapsed": false
   },
   "outputs": [],
   "source": [
    "calc = CalcE6C(engine='hkl')\n",
    "calc.engine.mode = 'constant_chi_vertical'\n",
    "calc.wavelength = 1.  # Angstrom"
   ]
  },
  {
   "cell_type": "markdown",
   "metadata": {},
   "source": [
    "### Setup the crystal lattice"
   ]
  },
  {
   "cell_type": "code",
   "execution_count": 3,
   "metadata": {
    "collapsed": false
   },
   "outputs": [
    {
     "output_type": "stream",
     "name": "stdout",
     "text": [
      "lattice LatticeTuple(a=1.0, b=1.0, c=1.0, alpha=90.0, beta=90.0, gamma=90.0)\nphysical axes OrderedDict([('mu', 0.0), ('omega', 0.0), ('chi', 0.0), ('phi', 0.0), ('gamma', 0.0), ('delta', 0.0)])\npseudo axes OrderedDict([('h', 0.0), ('k', 0.0), ('l', 0.0)])\nomega parameter is CalcParameter(name='omega', limits=(-180.0, 180.0), value=0.0, fit=True, inverted=False, units='Degree')\n"
     ]
    }
   ],
   "source": [
    "lattice = Lattice(a=1, b=1, c=1, alpha=90, beta=90, gamma=90)\n",
    "sample = calc.new_sample('sample0', lattice=lattice)\n",
    "\n",
    "print('lattice', sample.lattice)\n",
    "print('physical axes', calc.physical_axes)\n",
    "print('pseudo axes', calc.pseudo_axes)\n",
    "print('omega parameter is', calc['omega'])"
   ]
  },
  {
   "cell_type": "markdown",
   "metadata": {},
   "source": [
    "### Compute the UB matrix from two reflections"
   ]
  },
  {
   "cell_type": "code",
   "execution_count": 4,
   "metadata": {
    "collapsed": false
   },
   "outputs": [
    {
     "output_type": "execute_result",
     "data": {
      "text/plain": [
       "1"
      ]
     },
     "metadata": {},
     "execution_count": 4
    }
   ],
   "source": [
    "# define the wavelength\n",
    "calc.wavelength = 1.0\n",
    "\n",
    "# checking orientation of delta\n",
    "r1p = calc.Position(mu=0.0, omega=30.0, chi=0.0, phi=0.0, gamma=0., delta=60.)\n",
    "r1 = sample.add_reflection(0, 0, 1, position=r1p)\n",
    "r2p = calc.Position(mu=0.0, omega=120.0, chi=0.0, phi=0.0, gamma=0, delta=60.)\n",
    "r2 = sample.add_reflection(1, 0, 0, position=r2p)\n",
    "sample.compute_UB(r1, r2)"
   ]
  },
  {
   "source": [
    "### Show the computed **U** matrix"
   ],
   "cell_type": "markdown",
   "metadata": {}
  },
  {
   "cell_type": "code",
   "execution_count": 5,
   "metadata": {
    "collapsed": false
   },
   "outputs": [
    {
     "output_type": "execute_result",
     "data": {
      "text/plain": [
       "array([[ 1.00000000e+00, -3.74939946e-33,  6.12323400e-17],\n",
       "       [ 0.00000000e+00,  1.00000000e+00,  6.12323400e-17],\n",
       "       [-6.12323400e-17, -6.12323400e-17,  1.00000000e+00]])"
      ]
     },
     "metadata": {},
     "execution_count": 5
    }
   ],
   "source": [
    "sample.U"
   ]
  },
  {
   "source": [
    "### Show the computed **UB** matrix"
   ],
   "cell_type": "markdown",
   "metadata": {}
  },
  {
   "cell_type": "code",
   "execution_count": 6,
   "metadata": {
    "collapsed": false
   },
   "outputs": [
    {
     "output_type": "execute_result",
     "data": {
      "text/plain": [
       "array([[ 6.28318531e+00, -3.84734139e-16,  0.00000000e+00],\n",
       "       [ 0.00000000e+00,  6.28318531e+00,  0.00000000e+00],\n",
       "       [-3.84734139e-16, -3.84734139e-16,  6.28318531e+00]])"
      ]
     },
     "metadata": {},
     "execution_count": 6
    }
   ],
   "source": [
    "sample.UB"
   ]
  },
  {
   "cell_type": "markdown",
   "metadata": {},
   "source": [
    "### Calculate various (_hkl_) given motor positions\n",
    "\n",
    "#### (010)"
   ]
  },
  {
   "cell_type": "code",
   "execution_count": 7,
   "metadata": {
    "collapsed": false
   },
   "outputs": [
    {
     "output_type": "stream",
     "name": "stdout",
     "text": [
      "pseudo should be (0,1,0)= OrderedDict([('h', 1.7187070131469975e-16), ('k', 0.9999999999999998), ('l', 1.7919353632379053e-16)])\n"
     ]
    }
   ],
   "source": [
    "calc.physical_positions = calc.Position(mu=0.0, omega=30.0, chi=90.0, phi=0.0, gamma=0, delta=60.)\n",
    "print('pseudo should be (0,1,0)=', calc.pseudo_axes)\n"
   ]
  },
  {
   "cell_type": "code",
   "execution_count": 8,
   "metadata": {
    "collapsed": false
   },
   "outputs": [
    {
     "output_type": "stream",
     "name": "stdout",
     "text": [
      "pseudo should be (0,1,0)= OrderedDict([('h', 5.729023377156659e-17), ('k', 0.9999999999999999), ('l', 6.123233995736765e-17)])\n"
     ]
    }
   ],
   "source": [
    "# checking orientation of delta\n",
    "calc.physical_positions = calc.Position(mu=30.0, omega=0.0, chi=0.0, phi=0.0, gamma=60., delta=0.)\n",
    "print('pseudo should be (0,1,0)=', calc.pseudo_axes)"
   ]
  },
  {
   "source": [
    "#### (0 -1 0)"
   ],
   "cell_type": "markdown",
   "metadata": {}
  },
  {
   "cell_type": "code",
   "execution_count": 9,
   "metadata": {
    "collapsed": false
   },
   "outputs": [
    {
     "output_type": "stream",
     "name": "stdout",
     "text": [
      "pseudo should be (0,-1,0)= OrderedDict([('h', 0.0), ('k', -0.9999999999999998), ('l', 5.672885640905521e-17)])\n"
     ]
    }
   ],
   "source": [
    "calc.physical_positions = calc.Position(mu=0, omega=30., chi=-90.0, phi=0.0, gamma=0., delta=60.)\n",
    "print('pseudo should be (0,-1,0)=', calc.pseudo_axes)\n"
   ]
  },
  {
   "source": [
    "#### (-1 0 0)"
   ],
   "cell_type": "markdown",
   "metadata": {}
  },
  {
   "cell_type": "code",
   "execution_count": 10,
   "metadata": {
    "collapsed": false
   },
   "outputs": [
    {
     "output_type": "stream",
     "name": "stdout",
     "text": [
      "pseudo should be (-1,0,0)= OrderedDict([('h', -0.9999999999999999), ('k', 0.0), ('l', 2.291609350862664e-16)])\n"
     ]
    }
   ],
   "source": [
    "\n",
    "calc.physical_positions = calc.Position(mu=0.0, omega=-60.0, chi=0.0, phi=0.0, gamma=0, delta=60.)\n",
    "print('pseudo should be (-1,0,0)=', calc.pseudo_axes)\n"
   ]
  },
  {
   "cell_type": "markdown",
   "metadata": {},
   "source": [
    "### Diffracting upside-down now\n",
    "\n",
    "Note that omega and phi only need to sum to +/-120\n",
    "($\\omega+\\varphi = \\pm |120|$), which reflects what\n",
    "the inverse calculations from the library give."
   ]
  },
  {
   "source": [
    "#### (100)"
   ],
   "cell_type": "markdown",
   "metadata": {}
  },
  {
   "cell_type": "code",
   "execution_count": 11,
   "metadata": {
    "collapsed": false
   },
   "outputs": [
    {
     "output_type": "stream",
     "name": "stdout",
     "text": [
      "pseudo should be (1,0,0)= OrderedDict([('h', 1.0), ('k', 0.0), ('l', 5.729023377156662e-17)])\npseudo should be (1,0,0)= OrderedDict([('h', 1.0), ('k', 0.0), ('l', 5.729023377156662e-17)])\npseudo should be (1,0,0)= OrderedDict([('h', 1.0), ('k', 0.0), ('l', 5.729023377156662e-17)])\n"
     ]
    }
   ],
   "source": [
    "calc.physical_positions = calc.Position(mu=0.0, omega=-50.0, chi=0.0, phi=-70.0, gamma=0, delta=-60.)\n",
    "print('pseudo should be (1,0,0)=', calc.pseudo_axes)\n",
    "\n",
    "calc.physical_positions = calc.Position(mu=0.0, omega=-100.0, chi=0.0, phi=-20.0, gamma=0, delta=-60.)\n",
    "print('pseudo should be (1,0,0)=', calc.pseudo_axes)\n",
    "\n",
    "calc.physical_positions = calc.Position(mu=0.0, omega=100.0, chi=0.0, phi=-220.0, gamma=0, delta=-60.)\n",
    "print('pseudo should be (1,0,0)=', calc.pseudo_axes)"
   ]
  },
  {
   "source": [
    "#### (011)"
   ],
   "cell_type": "markdown",
   "metadata": {}
  },
  {
   "cell_type": "code",
   "execution_count": 12,
   "metadata": {
    "collapsed": false
   },
   "outputs": [
    {
     "output_type": "stream",
     "name": "stdout",
     "text": [
      "pseudo should be (0,1,1)= OrderedDict([('h', 3.4374140262939965e-16), ('k', 1.0), ('l', 1.0)])\n"
     ]
    }
   ],
   "source": [
    "calc.physical_positions = calc.Position(mu=0.0, omega=45.0, chi=45.0, phi=0.0, gamma=0, delta=90.)\n",
    "print('pseudo should be (0,1,1)=', calc.pseudo_axes)"
   ]
  },
  {
   "source": [
    "### Verify that $\\omega+\\varphi = \\pm |120|$ is kept."
   ],
   "cell_type": "markdown",
   "metadata": {}
  },
  {
   "cell_type": "code",
   "execution_count": 13,
   "metadata": {
    "collapsed": false
   },
   "outputs": [],
   "source": [
    "# calculate all allowed combinations of motor positions, given hkl\n",
    "solutions = calc.forward((1,0,0))"
   ]
  },
  {
   "cell_type": "code",
   "execution_count": 14,
   "metadata": {
    "collapsed": false
   },
   "outputs": [
    {
     "output_type": "stream",
     "name": "stdout",
     "text": [
      "expecting ~120: 119.9999999269113\nexpecting ~120: -119.9999999269113\n"
     ]
    }
   ],
   "source": [
    "for sol in solutions:\n",
    "    print(\"expecting ~120:\", sol.omega + sol.phi)"
   ]
  }
 ],
 "metadata": {
  "kernelspec": {
   "display_name": "Python 3.8.2 64-bit ('base': conda)",
   "language": "python",
   "name": "python38264bitbaseconda9c3e3a9452084ea0903e516deca6d551"
  },
  "language_info": {
   "codemirror_mode": {
    "name": "ipython",
    "version": 3
   },
   "file_extension": ".py",
   "mimetype": "text/x-python",
   "name": "python",
   "nbconvert_exporter": "python",
   "pygments_lexer": "ipython3",
   "version": "3.8.2-final"
  }
 },
 "nbformat": 4,
 "nbformat_minor": 0
}